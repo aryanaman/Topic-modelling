{
 "cells": [
  {
   "cell_type": "markdown",
   "metadata": {},
   "source": [
    "# Topic modelling on news data \n",
    "\n",
    "- Data is taken from kaggle you can download it from below .\n",
    "- Load the data using pandas module"
   ]
  },
  {
   "cell_type": "code",
   "execution_count": 1,
   "metadata": {},
   "outputs": [],
   "source": [
    "import pandas as pd\n",
    "data=pd.read_csv('abcnews-date-text.csv',error_bad_lines=False)"
   ]
  },
  {
   "cell_type": "code",
   "execution_count": 2,
   "metadata": {},
   "outputs": [],
   "source": [
    "data_text = data[['headline_text']]\n",
    "data_text['index'] = data_text.index\n",
    "documents = data_text"
   ]
  },
  {
   "cell_type": "code",
   "execution_count": 3,
   "metadata": {},
   "outputs": [
    {
     "name": "stdout",
     "output_type": "stream",
     "text": [
      "1103665\n",
      "                                       headline_text  index\n",
      "0  aba decides against community broadcasting lic...      0\n",
      "1     act fire witnesses must be aware of defamation      1\n",
      "2     a g calls for infrastructure protection summit      2\n",
      "3           air nz staff in aust strike for pay rise      3\n",
      "4      air nz strike to affect australian travellers      4\n"
     ]
    }
   ],
   "source": [
    "print(len(documents))\n",
    "print(documents[:5])"
   ]
  },
  {
   "cell_type": "markdown",
   "metadata": {},
   "source": [
    "# Data preprocessing \n",
    "## Different process we do here like as Tokenization ,lemetization and stemming the data\n",
    "- we wanted to convert the data to their normal form for example 'stolen' would converted to steal\n",
    "### Here nltk is used for removing different language rather than english (Hindi and urdu like that word would be removed)\n",
    "- In preprocessing actually we remove all the punctuation marks , exclamatory marks and commas "
   ]
  },
  {
   "cell_type": "code",
   "execution_count": 4,
   "metadata": {
    "scrolled": true
   },
   "outputs": [
    {
     "name": "stderr",
     "output_type": "stream",
     "text": [
      "C:\\Users\\praveen\\Anaconda3\\lib\\site-packages\\gensim\\utils.py:1197: UserWarning: detected Windows; aliasing chunkize to chunkize_serial\n",
      "  warnings.warn(\"detected Windows; aliasing chunkize to chunkize_serial\")\n",
      "[nltk_data] Downloading package wordnet to\n",
      "[nltk_data]     C:\\Users\\praveen\\AppData\\Roaming\\nltk_data...\n",
      "[nltk_data]   Package wordnet is already up-to-date!\n"
     ]
    },
    {
     "data": {
      "text/plain": [
       "True"
      ]
     },
     "execution_count": 4,
     "metadata": {},
     "output_type": "execute_result"
    }
   ],
   "source": [
    "\n",
    "import gensim\n",
    "from gensim.utils import simple_preprocess\n",
    "from gensim.parsing.preprocessing import STOPWORDS\n",
    "from nltk.stem import WordNetLemmatizer, SnowballStemmer\n",
    "from nltk.stem.porter import *\n",
    "import numpy as np\n",
    "np.random.seed(2018)\n",
    "import nltk\n",
    "nltk.download('wordnet')\n",
    "               \n",
    "            "
   ]
  },
  {
   "cell_type": "markdown",
   "metadata": {},
   "source": [
    "# Lemmatization \n",
    "## Lemmatization is used for gouping of word that's contains the same meaning(synonyms,antonyms)\n",
    "# Tokenization\n",
    "## Tokenization is used for keeps the word having meaningfull meaning\n",
    "- This is used for removal of word like if,the ,a,an that word doesn't make any sense in Topic\n",
    "# Stemming\n",
    "## Stemming is used for convert the word into their root form"
   ]
  },
  {
   "cell_type": "code",
   "execution_count": 5,
   "metadata": {},
   "outputs": [],
   "source": [
    "def lemmatize_stemming(text):\n",
    "    return WordNetLemmatizer().lemmatize(text, pos='v')\n",
    "def preprocess(text):\n",
    "    result = []\n",
    "    for token in gensim.utils.simple_preprocess(text):\n",
    "        if token not in gensim.parsing.preprocessing.STOPWORDS and len(token) > 3:\n",
    "            result.append(lemmatize_stemming(token))\n",
    "    return result"
   ]
  },
  {
   "cell_type": "markdown",
   "metadata": {},
   "source": [
    "# preview data after preprocessing \n",
    "- How the data will look like "
   ]
  },
  {
   "cell_type": "code",
   "execution_count": 6,
   "metadata": {},
   "outputs": [
    {
     "name": "stdout",
     "output_type": "stream",
     "text": [
      "original document: \n",
      "['rain', 'helps', 'dampen', 'bushfires']\n",
      "\n",
      "\n",
      " tokenized and lemmatized document: \n",
      "['rain', 'help', 'dampen', 'bushfires']\n"
     ]
    }
   ],
   "source": [
    "# Select a document to preview after preprocessing\n",
    "doc_sample = documents[documents['index'] == 4310].values[0][0]\n",
    "print('original document: ')\n",
    "words = []\n",
    "for word in doc_sample.split(' '):\n",
    "    words.append(word)\n",
    "print(words)\n",
    "print('\\n\\n tokenized and lemmatized document: ')\n",
    "print(preprocess(doc_sample))\n",
    "\n"
   ]
  },
  {
   "cell_type": "code",
   "execution_count": 7,
   "metadata": {
    "scrolled": true
   },
   "outputs": [
    {
     "data": {
      "text/plain": [
       "0              [decide, community, broadcast, licence]\n",
       "1                         [witness, aware, defamation]\n",
       "2           [call, infrastructure, protection, summit]\n",
       "3                          [staff, aust, strike, rise]\n",
       "4             [strike, affect, australian, travellers]\n",
       "5               [ambitious, olsson, win, triple, jump]\n",
       "6               [antic, delight, record, break, barca]\n",
       "7    [aussie, qualifier, stosur, waste, memphis, ma...\n",
       "8             [aust, address, security, council, iraq]\n",
       "9                         [australia, lock, timetable]\n",
       "Name: headline_text, dtype: object"
      ]
     },
     "execution_count": 7,
     "metadata": {},
     "output_type": "execute_result"
    }
   ],
   "source": [
    "processed_docs = documents['headline_text'].map(preprocess)\n",
    "processed_docs[:10]"
   ]
  },
  {
   "cell_type": "markdown",
   "metadata": {},
   "source": [
    "### Dictionary is formed for "
   ]
  },
  {
   "cell_type": "code",
   "execution_count": 8,
   "metadata": {},
   "outputs": [
    {
     "name": "stdout",
     "output_type": "stream",
     "text": [
      "0 broadcast\n",
      "1 community\n",
      "2 decide\n",
      "3 licence\n",
      "4 aware\n",
      "5 defamation\n",
      "6 witness\n",
      "7 call\n",
      "8 infrastructure\n",
      "9 protection\n",
      "10 summit\n"
     ]
    }
   ],
   "source": [
    "dictionary = gensim.corpora.Dictionary(processed_docs)\n",
    "count = 0\n",
    "for k, v in dictionary.iteritems():\n",
    "    print(k, v)\n",
    "    count += 1\n",
    "    if count > 10:\n",
    "        break"
   ]
  },
  {
   "cell_type": "code",
   "execution_count": null,
   "metadata": {
    "scrolled": true
   },
   "outputs": [],
   "source": []
  },
  {
   "cell_type": "code",
   "execution_count": 9,
   "metadata": {},
   "outputs": [],
   "source": [
    "dictionary.filter_extremes(no_below=15, no_above=0.5, keep_n=100000)"
   ]
  },
  {
   "cell_type": "code",
   "execution_count": 10,
   "metadata": {},
   "outputs": [
    {
     "data": {
      "text/plain": [
       "[(112, 1), (489, 1), (970, 1), (4427, 1)]"
      ]
     },
     "execution_count": 10,
     "metadata": {},
     "output_type": "execute_result"
    }
   ],
   "source": [
    "bow_corpus = [dictionary.doc2bow(doc) for doc in processed_docs]\n",
    "bow_corpus[4310]"
   ]
  },
  {
   "cell_type": "code",
   "execution_count": 11,
   "metadata": {},
   "outputs": [],
   "source": [
    "import pickle\n",
    "pickle.dump(bow_corpus, open('bow_corpus.pkl', 'wb'))\n",
    "dictionary.save('dictionary.gensim')"
   ]
  },
  {
   "cell_type": "code",
   "execution_count": 12,
   "metadata": {},
   "outputs": [
    {
     "name": "stdout",
     "output_type": "stream",
     "text": [
      "Word 112 (\"help\") appears 1 time.\n",
      "Word 489 (\"rain\") appears 1 time.\n",
      "Word 970 (\"bushfires\") appears 1 time.\n",
      "Word 4427 (\"dampen\") appears 1 time.\n"
     ]
    }
   ],
   "source": [
    "bow_doc_4310 = bow_corpus[4310]\n",
    "for i in range(len(bow_doc_4310)):\n",
    "    print(\"Word {} (\\\"{}\\\") appears {} time.\".format(bow_doc_4310[i][0], \n",
    "                                               dictionary[bow_doc_4310[i][0]], \n",
    "bow_doc_4310[i][1]))"
   ]
  },
  {
   "cell_type": "code",
   "execution_count": 13,
   "metadata": {},
   "outputs": [
    {
     "name": "stdout",
     "output_type": "stream",
     "text": [
      "[(0, 0.5955574839932255),\n",
      " (1, 0.394834368882524),\n",
      " (2, 0.4976240783705052),\n",
      " (3, 0.4917188028077664)]\n"
     ]
    }
   ],
   "source": [
    "from gensim import corpora, models\n",
    "tfidf = models.TfidfModel(bow_corpus)\n",
    "corpus_tfidf = tfidf[bow_corpus]\n",
    "from pprint import pprint\n",
    "for doc in corpus_tfidf:\n",
    "    pprint(doc)\n",
    "    break"
   ]
  },
  {
   "cell_type": "markdown",
   "metadata": {},
   "source": []
  },
  {
   "cell_type": "code",
   "execution_count": 14,
   "metadata": {},
   "outputs": [],
   "source": [
    "lda_model = gensim.models.LdaMulticore(bow_corpus, num_topics=5, id2word=dictionary, passes=2, workers=2)\n",
    "lda_model.save('model5.gensim')"
   ]
  },
  {
   "cell_type": "code",
   "execution_count": 15,
   "metadata": {
    "scrolled": false
   },
   "outputs": [
    {
     "name": "stdout",
     "output_type": "stream",
     "text": [
      "Topic: 0 \n",
      "Words: 0.028*\"police\" + 0.017*\"charge\" + 0.016*\"court\" + 0.012*\"attack\" + 0.012*\"south\" + 0.011*\"murder\" + 0.011*\"kill\" + 0.011*\"death\" + 0.010*\"face\" + 0.010*\"woman\"\n",
      "Topic: 1 \n",
      "Words: 0.010*\"say\" + 0.009*\"country\" + 0.009*\"health\" + 0.008*\"fund\" + 0.008*\"rural\" + 0.007*\"indigenous\" + 0.007*\"tasmania\" + 0.007*\"turnbull\" + 0.006*\"australia\" + 0.006*\"fall\"\n",
      "Topic: 2 \n",
      "Words: 0.017*\"trump\" + 0.011*\"australia\" + 0.010*\"crash\" + 0.009*\"world\" + 0.008*\"live\" + 0.008*\"test\" + 0.008*\"donald\" + 0.007*\"win\" + 0.006*\"open\" + 0.006*\"deal\"\n",
      "Topic: 3 \n",
      "Words: 0.019*\"australian\" + 0.011*\"house\" + 0.009*\"market\" + 0.008*\"miss\" + 0.007*\"rise\" + 0.007*\"perth\" + 0.007*\"west\" + 0.007*\"high\" + 0.007*\"price\" + 0.007*\"break\"\n",
      "Topic: 4 \n",
      "Words: 0.015*\"government\" + 0.013*\"queensland\" + 0.010*\"warn\" + 0.009*\"plan\" + 0.009*\"say\" + 0.008*\"north\" + 0.008*\"election\" + 0.007*\"water\" + 0.006*\"coast\" + 0.006*\"gold\"\n"
     ]
    }
   ],
   "source": [
    "for idx, topic in lda_model.print_topics(-1):\n",
    "    print('Topic: {} \\nWords: {}'.format(idx, topic))"
   ]
  },
  {
   "cell_type": "code",
   "execution_count": 16,
   "metadata": {
    "scrolled": true
   },
   "outputs": [
    {
     "name": "stdout",
     "output_type": "stream",
     "text": [
      "Topic: 0 Word: 0.009*\"donald\" + 0.009*\"weather\" + 0.008*\"sport\" + 0.006*\"friday\" + 0.006*\"rugby\" + 0.006*\"thursday\" + 0.005*\"dairy\" + 0.004*\"australia\" + 0.004*\"grand\" + 0.004*\"australian\"\n",
      "Topic: 1 Word: 0.020*\"trump\" + 0.009*\"turnbull\" + 0.007*\"victorian\" + 0.006*\"tuesday\" + 0.006*\"violence\" + 0.006*\"asylum\" + 0.006*\"domestic\" + 0.005*\"tony\" + 0.005*\"kid\" + 0.005*\"quiz\"\n",
      "Topic: 2 Word: 0.015*\"crash\" + 0.012*\"police\" + 0.008*\"woman\" + 0.008*\"die\" + 0.008*\"miss\" + 0.007*\"search\" + 0.006*\"dead\" + 0.006*\"shoot\" + 0.006*\"climate\" + 0.006*\"driver\"\n",
      "Topic: 3 Word: 0.015*\"market\" + 0.010*\"share\" + 0.007*\"price\" + 0.007*\"australian\" + 0.007*\"marriage\" + 0.006*\"monday\" + 0.006*\"wall\" + 0.006*\"queensland\" + 0.006*\"fall\" + 0.006*\"hobart\"\n",
      "Topic: 4 Word: 0.013*\"rural\" + 0.010*\"government\" + 0.008*\"health\" + 0.008*\"fund\" + 0.006*\"budget\" + 0.006*\"federal\" + 0.005*\"national\" + 0.005*\"plan\" + 0.005*\"election\" + 0.005*\"labor\"\n",
      "Topic: 5 Word: 0.009*\"grandstand\" + 0.007*\"kill\" + 0.007*\"australia\" + 0.007*\"november\" + 0.006*\"say\" + 0.006*\"korea\" + 0.005*\"syria\" + 0.005*\"bomb\" + 0.005*\"wrap\" + 0.005*\"attack\"\n",
      "Topic: 6 Word: 0.015*\"interview\" + 0.011*\"drum\" + 0.007*\"michael\" + 0.006*\"farm\" + 0.006*\"malcolm\" + 0.006*\"david\" + 0.005*\"scott\" + 0.005*\"plant\" + 0.005*\"tree\" + 0.004*\"port\"\n",
      "Topic: 7 Word: 0.015*\"charge\" + 0.015*\"murder\" + 0.012*\"court\" + 0.009*\"police\" + 0.008*\"child\" + 0.008*\"death\" + 0.008*\"assault\" + 0.008*\"guilty\" + 0.008*\"jail\" + 0.007*\"accuse\"\n",
      "Topic: 8 Word: 0.017*\"country\" + 0.011*\"podcast\" + 0.008*\"league\" + 0.006*\"july\" + 0.005*\"world\" + 0.005*\"december\" + 0.005*\"beat\" + 0.005*\"australia\" + 0.004*\"adelaide\" + 0.004*\"long\"\n",
      "Topic: 9 Word: 0.023*\"hour\" + 0.015*\"news\" + 0.008*\"john\" + 0.008*\"october\" + 0.006*\"business\" + 0.005*\"footage\" + 0.005*\"cyclone\" + 0.004*\"retire\" + 0.004*\"steve\" + 0.004*\"deliver\"\n"
     ]
    }
   ],
   "source": [
    "lda_model_tfidf = gensim.models.LdaMulticore(corpus_tfidf, num_topics=10, id2word=dictionary, passes=2, workers=4)\n",
    "lda_model.save('model10.gensim')\n",
    "for idx, topic in lda_model_tfidf.print_topics(-1):\n",
    "    print('Topic: {} Word: {}'.format(idx, topic))\n"
   ]
  },
  {
   "cell_type": "code",
   "execution_count": 17,
   "metadata": {},
   "outputs": [
    {
     "data": {
      "text/plain": [
       "['rain', 'help', 'dampen', 'bushfires']"
      ]
     },
     "execution_count": 17,
     "metadata": {},
     "output_type": "execute_result"
    }
   ],
   "source": [
    "processed_docs[4310]"
   ]
  },
  {
   "cell_type": "code",
   "execution_count": 18,
   "metadata": {},
   "outputs": [
    {
     "name": "stdout",
     "output_type": "stream",
     "text": [
      "\n",
      "Score: 0.34887999296188354\t \n",
      "Topic: 0.010*\"say\" + 0.009*\"country\" + 0.009*\"health\" + 0.008*\"fund\" + 0.008*\"rural\" + 0.007*\"indigenous\" + 0.007*\"tasmania\" + 0.007*\"turnbull\" + 0.006*\"australia\" + 0.006*\"fall\"\n",
      "\n",
      "Score: 0.3300514817237854\t \n",
      "Topic: 0.015*\"government\" + 0.013*\"queensland\" + 0.010*\"warn\" + 0.009*\"plan\" + 0.009*\"say\" + 0.008*\"north\" + 0.008*\"election\" + 0.007*\"water\" + 0.006*\"coast\" + 0.006*\"gold\"\n",
      "\n",
      "Score: 0.23995959758758545\t \n",
      "Topic: 0.028*\"police\" + 0.017*\"charge\" + 0.016*\"court\" + 0.012*\"attack\" + 0.012*\"south\" + 0.011*\"murder\" + 0.011*\"kill\" + 0.011*\"death\" + 0.010*\"face\" + 0.010*\"woman\"\n",
      "\n",
      "Score: 0.04072026163339615\t \n",
      "Topic: 0.019*\"australian\" + 0.011*\"house\" + 0.009*\"market\" + 0.008*\"miss\" + 0.007*\"rise\" + 0.007*\"perth\" + 0.007*\"west\" + 0.007*\"high\" + 0.007*\"price\" + 0.007*\"break\"\n",
      "\n",
      "Score: 0.04038867726922035\t \n",
      "Topic: 0.017*\"trump\" + 0.011*\"australia\" + 0.010*\"crash\" + 0.009*\"world\" + 0.008*\"live\" + 0.008*\"test\" + 0.008*\"donald\" + 0.007*\"win\" + 0.006*\"open\" + 0.006*\"deal\"\n"
     ]
    }
   ],
   "source": [
    "for index, score in sorted(lda_model[bow_corpus[4310]], key=lambda tup: -1*tup[1]):\n",
    "    print(\"\\nScore: {}\\t \\nTopic: {}\".format(score, lda_model.print_topic(index, 10)))"
   ]
  },
  {
   "cell_type": "code",
   "execution_count": 19,
   "metadata": {
    "scrolled": true
   },
   "outputs": [
    {
     "name": "stdout",
     "output_type": "stream",
     "text": [
      "\n",
      "Score: 0.8199707865715027\t \n",
      "Topic: 0.020*\"trump\" + 0.009*\"turnbull\" + 0.007*\"victorian\" + 0.006*\"tuesday\" + 0.006*\"violence\" + 0.006*\"asylum\" + 0.006*\"domestic\" + 0.005*\"tony\" + 0.005*\"kid\" + 0.005*\"quiz\"\n",
      "\n",
      "Score: 0.02001131884753704\t \n",
      "Topic: 0.009*\"donald\" + 0.009*\"weather\" + 0.008*\"sport\" + 0.006*\"friday\" + 0.006*\"rugby\" + 0.006*\"thursday\" + 0.005*\"dairy\" + 0.004*\"australia\" + 0.004*\"grand\" + 0.004*\"australian\"\n",
      "\n",
      "Score: 0.02000722475349903\t \n",
      "Topic: 0.015*\"market\" + 0.010*\"share\" + 0.007*\"price\" + 0.007*\"australian\" + 0.007*\"marriage\" + 0.006*\"monday\" + 0.006*\"wall\" + 0.006*\"queensland\" + 0.006*\"fall\" + 0.006*\"hobart\"\n",
      "\n",
      "Score: 0.02000321075320244\t \n",
      "Topic: 0.013*\"rural\" + 0.010*\"government\" + 0.008*\"health\" + 0.008*\"fund\" + 0.006*\"budget\" + 0.006*\"federal\" + 0.005*\"national\" + 0.005*\"plan\" + 0.005*\"election\" + 0.005*\"labor\"\n",
      "\n",
      "Score: 0.020001837983727455\t \n",
      "Topic: 0.015*\"crash\" + 0.012*\"police\" + 0.008*\"woman\" + 0.008*\"die\" + 0.008*\"miss\" + 0.007*\"search\" + 0.006*\"dead\" + 0.006*\"shoot\" + 0.006*\"climate\" + 0.006*\"driver\"\n",
      "\n",
      "Score: 0.020001564174890518\t \n",
      "Topic: 0.015*\"interview\" + 0.011*\"drum\" + 0.007*\"michael\" + 0.006*\"farm\" + 0.006*\"malcolm\" + 0.006*\"david\" + 0.005*\"scott\" + 0.005*\"plant\" + 0.005*\"tree\" + 0.004*\"port\"\n",
      "\n",
      "Score: 0.02000126987695694\t \n",
      "Topic: 0.023*\"hour\" + 0.015*\"news\" + 0.008*\"john\" + 0.008*\"october\" + 0.006*\"business\" + 0.005*\"footage\" + 0.005*\"cyclone\" + 0.004*\"retire\" + 0.004*\"steve\" + 0.004*\"deliver\"\n",
      "\n",
      "Score: 0.020001191645860672\t \n",
      "Topic: 0.017*\"country\" + 0.011*\"podcast\" + 0.008*\"league\" + 0.006*\"july\" + 0.005*\"world\" + 0.005*\"december\" + 0.005*\"beat\" + 0.005*\"australia\" + 0.004*\"adelaide\" + 0.004*\"long\"\n",
      "\n",
      "Score: 0.02000105381011963\t \n",
      "Topic: 0.015*\"charge\" + 0.015*\"murder\" + 0.012*\"court\" + 0.009*\"police\" + 0.008*\"child\" + 0.008*\"death\" + 0.008*\"assault\" + 0.008*\"guilty\" + 0.008*\"jail\" + 0.007*\"accuse\"\n",
      "\n",
      "Score: 0.020000489428639412\t \n",
      "Topic: 0.009*\"grandstand\" + 0.007*\"kill\" + 0.007*\"australia\" + 0.007*\"november\" + 0.006*\"say\" + 0.006*\"korea\" + 0.005*\"syria\" + 0.005*\"bomb\" + 0.005*\"wrap\" + 0.005*\"attack\"\n"
     ]
    }
   ],
   "source": [
    "for index, score in sorted(lda_model_tfidf[bow_corpus[4310]], key=lambda tup: -1*tup[1]):\n",
    "    print(\"\\nScore: {}\\t \\nTopic: {}\".format(score, lda_model_tfidf.print_topic(index, 10)))"
   ]
  },
  {
   "cell_type": "code",
   "execution_count": 20,
   "metadata": {
    "scrolled": true
   },
   "outputs": [
    {
     "name": "stdout",
     "output_type": "stream",
     "text": [
      "Score: 0.36665859818458557\t Topic: 0.028*\"police\" + 0.017*\"charge\" + 0.016*\"court\" + 0.012*\"attack\" + 0.012*\"south\"\n",
      "Score: 0.2905018627643585\t Topic: 0.010*\"say\" + 0.009*\"country\" + 0.009*\"health\" + 0.008*\"fund\" + 0.008*\"rural\"\n",
      "Score: 0.27556732296943665\t Topic: 0.015*\"government\" + 0.013*\"queensland\" + 0.010*\"warn\" + 0.009*\"plan\" + 0.009*\"say\"\n",
      "Score: 0.03393510356545448\t Topic: 0.019*\"australian\" + 0.011*\"house\" + 0.009*\"market\" + 0.008*\"miss\" + 0.007*\"rise\"\n",
      "Score: 0.03333709388971329\t Topic: 0.017*\"trump\" + 0.011*\"australia\" + 0.010*\"crash\" + 0.009*\"world\" + 0.008*\"live\"\n"
     ]
    }
   ],
   "source": [
    "unseen_document = 'How a Pentagon de to help him identity crisis for Google'\n",
    "bow_vector = dictionary.doc2bow(preprocess(unseen_document))\n",
    "for index, score in sorted(lda_model[bow_vector], key=lambda tup: -1*tup[1]):\n",
    "    print(\"Score: {}\\t Topic: {}\".format(score, lda_model.print_topic(index, 5)))"
   ]
  },
  {
   "cell_type": "code",
   "execution_count": 21,
   "metadata": {},
   "outputs": [],
   "source": [
    "dictionary = gensim.corpora.Dictionary.load('dictionary.gensim')\n",
    "corpus = pickle.load(open('bow_corpus.pkl', 'rb'))\n",
    "lda = gensim.models.ldamodel.LdaModel.load('model5.gensim')\n"
   ]
  },
  {
   "cell_type": "code",
   "execution_count": 22,
   "metadata": {},
   "outputs": [
    {
     "name": "stderr",
     "output_type": "stream",
     "text": [
      "C:\\Users\\praveen\\Anaconda3\\lib\\site-packages\\pyLDAvis\\_prepare.py:257: FutureWarning: Sorting because non-concatenation axis is not aligned. A future version\n",
      "of pandas will change to not sort by default.\n",
      "\n",
      "To accept the future behavior, pass 'sort=False'.\n",
      "\n",
      "To retain the current behavior and silence the warning, pass 'sort=True'.\n",
      "\n",
      "  return pd.concat([default_term_info] + list(topic_dfs))\n"
     ]
    },
    {
     "data": {
      "text/html": [
       "\n",
       "<link rel=\"stylesheet\" type=\"text/css\" href=\"https://cdn.rawgit.com/bmabey/pyLDAvis/files/ldavis.v1.0.0.css\">\n",
       "\n",
       "\n",
       "<div id=\"ldavis_el1266423757919825362068385715\"></div>\n",
       "<script type=\"text/javascript\">\n",
       "\n",
       "var ldavis_el1266423757919825362068385715_data = {\"mdsDat\": {\"x\": [0.3617298249793749, -0.18847320722186425, 0.06085441351622314, -0.023222102122285006, -0.2108889291514488], \"y\": [0.10789702079984811, -0.04816011693399219, -0.3565742690800451, 0.19285438202629768, 0.10398298318789145], \"topics\": [1, 2, 3, 4, 5], \"cluster\": [1, 1, 1, 1, 1], \"Freq\": [20.227354049682617, 20.31920051574707, 19.06100845336914, 18.752422332763672, 21.6400146484375]}, \"tinfo\": {\"Category\": [\"Default\", \"Default\", \"Default\", \"Default\", \"Default\", \"Default\", \"Default\", \"Default\", \"Default\", \"Default\", \"Default\", \"Default\", \"Default\", \"Default\", \"Default\", \"Default\", \"Default\", \"Default\", \"Default\", \"Default\", \"Default\", \"Default\", \"Default\", \"Default\", \"Default\", \"Default\", \"Default\", \"Default\", \"Default\", \"Default\", \"Topic1\", \"Topic1\", \"Topic1\", \"Topic1\", \"Topic1\", \"Topic1\", \"Topic1\", \"Topic1\", \"Topic1\", \"Topic1\", \"Topic1\", \"Topic1\", \"Topic1\", \"Topic1\", \"Topic1\", \"Topic1\", \"Topic1\", \"Topic1\", \"Topic1\", \"Topic1\", \"Topic1\", \"Topic1\", \"Topic1\", \"Topic1\", \"Topic1\", \"Topic1\", \"Topic1\", \"Topic1\", \"Topic1\", \"Topic1\", \"Topic1\", \"Topic1\", \"Topic1\", \"Topic1\", \"Topic1\", \"Topic1\", \"Topic2\", \"Topic2\", \"Topic2\", \"Topic2\", \"Topic2\", \"Topic2\", \"Topic2\", \"Topic2\", \"Topic2\", \"Topic2\", \"Topic2\", \"Topic2\", \"Topic2\", \"Topic2\", \"Topic2\", \"Topic2\", \"Topic2\", \"Topic2\", \"Topic2\", \"Topic2\", \"Topic2\", \"Topic2\", \"Topic2\", \"Topic2\", \"Topic2\", \"Topic2\", \"Topic2\", \"Topic2\", \"Topic2\", \"Topic2\", \"Topic2\", \"Topic2\", \"Topic2\", \"Topic2\", \"Topic2\", \"Topic2\", \"Topic2\", \"Topic2\", \"Topic2\", \"Topic2\", \"Topic2\", \"Topic3\", \"Topic3\", \"Topic3\", \"Topic3\", \"Topic3\", \"Topic3\", \"Topic3\", \"Topic3\", \"Topic3\", \"Topic3\", \"Topic3\", \"Topic3\", \"Topic3\", \"Topic3\", \"Topic3\", \"Topic3\", \"Topic3\", \"Topic3\", \"Topic3\", \"Topic3\", \"Topic3\", \"Topic3\", \"Topic3\", \"Topic3\", \"Topic3\", \"Topic3\", \"Topic3\", \"Topic3\", \"Topic3\", \"Topic3\", \"Topic3\", \"Topic3\", \"Topic3\", \"Topic3\", \"Topic3\", \"Topic3\", \"Topic3\", \"Topic3\", \"Topic3\", \"Topic3\", \"Topic3\", \"Topic3\", \"Topic3\", \"Topic4\", \"Topic4\", \"Topic4\", \"Topic4\", \"Topic4\", \"Topic4\", \"Topic4\", \"Topic4\", \"Topic4\", \"Topic4\", \"Topic4\", \"Topic4\", \"Topic4\", \"Topic4\", \"Topic4\", \"Topic4\", \"Topic4\", \"Topic4\", \"Topic4\", \"Topic4\", \"Topic4\", \"Topic4\", \"Topic4\", \"Topic4\", \"Topic4\", \"Topic4\", \"Topic4\", \"Topic4\", \"Topic4\", \"Topic4\", \"Topic4\", \"Topic4\", \"Topic4\", \"Topic4\", \"Topic4\", \"Topic4\", \"Topic4\", \"Topic4\", \"Topic4\", \"Topic4\", \"Topic4\", \"Topic4\", \"Topic4\", \"Topic5\", \"Topic5\", \"Topic5\", \"Topic5\", \"Topic5\", \"Topic5\", \"Topic5\", \"Topic5\", \"Topic5\", \"Topic5\", \"Topic5\", \"Topic5\", \"Topic5\", \"Topic5\", \"Topic5\", \"Topic5\", \"Topic5\", \"Topic5\", \"Topic5\", \"Topic5\", \"Topic5\", \"Topic5\", \"Topic5\", \"Topic5\", \"Topic5\", \"Topic5\", \"Topic5\", \"Topic5\", \"Topic5\", \"Topic5\", \"Topic5\", \"Topic5\", \"Topic5\", \"Topic5\", \"Topic5\", \"Topic5\", \"Topic5\", \"Topic5\", \"Topic5\", \"Topic5\", \"Topic5\", \"Topic5\", \"Topic5\", \"Topic5\", \"Topic5\"], \"Freq\": [27670.0, 17543.0, 16052.0, 16384.0, 15367.0, 15961.0, 13874.0, 11817.0, 11454.0, 11270.0, 11055.0, 10672.0, 9857.0, 9969.0, 10331.0, 9422.0, 9618.0, 8519.0, 8564.0, 8519.0, 8395.0, 8279.0, 8273.0, 8072.0, 7752.0, 7829.0, 7513.0, 12473.0, 7495.0, 7427.0, 27670.005859375, 16383.9111328125, 15366.9873046875, 11816.5048828125, 11270.150390625, 11453.8251953125, 11054.33203125, 9968.75390625, 9618.064453125, 8394.8232421875, 8278.615234375, 7828.95458984375, 7495.03369140625, 7426.7509765625, 7169.318359375, 7093.4951171875, 6508.89013671875, 6235.26171875, 5856.12109375, 5676.16259765625, 5611.30419921875, 5536.255859375, 5375.8642578125, 5340.12744140625, 4956.34814453125, 3618.593994140625, 3617.96533203125, 3432.6064453125, 3272.0224609375, 3231.360595703125, 10668.6220703125, 5085.3232421875, 3747.086181640625, 4207.169921875, 4118.54541015625, 5353.78564453125, 8519.1416015625, 8563.4697265625, 8072.26708984375, 8273.05859375, 7191.4423828125, 6769.0986328125, 6529.337890625, 5900.18017578125, 4978.1201171875, 4675.2919921875, 4114.49853515625, 3844.78515625, 3739.43798828125, 3581.336181640625, 3460.998046875, 3513.00146484375, 3427.3447265625, 3234.1279296875, 3173.988525390625, 3111.48583984375, 2928.086669921875, 2804.9912109375, 2784.68896484375, 2720.718017578125, 2687.651123046875, 2653.6962890625, 2577.444091796875, 2605.88623046875, 2526.501953125, 3345.49072265625, 3630.896484375, 5280.2099609375, 5409.68603515625, 10134.517578125, 3687.4365234375, 3217.4697265625, 6041.54931640625, 3351.775146484375, 3439.896240234375, 3770.867919921875, 3457.6943359375, 16052.056640625, 9421.3974609375, 7058.2978515625, 5646.60986328125, 5739.625, 5626.9443359375, 4541.7392578125, 4502.15625, 7751.3515625, 4032.168701171875, 3526.317138671875, 3464.052001953125, 3382.21533203125, 3364.558837890625, 3208.0322265625, 3187.671875, 3163.24755859375, 3091.85888671875, 3050.49951171875, 2939.596435546875, 6666.3095703125, 2836.69140625, 2852.2646484375, 2810.506591796875, 2789.286865234375, 2777.596435546875, 5625.4326171875, 2540.126953125, 3974.465087890625, 2503.82177734375, 2851.66259765625, 2559.008056640625, 2781.33740234375, 7073.53515625, 7951.67431640625, 5790.9033203125, 10159.947265625, 4959.05908203125, 3766.368896484375, 4943.576171875, 3984.361083984375, 3259.351806640625, 3905.847412109375, 17542.39453125, 9856.4599609375, 8518.7822265625, 6740.80810546875, 6086.50927734375, 5970.41552734375, 6365.404296875, 6183.66845703125, 5017.0185546875, 4803.7275390625, 4796.1591796875, 4750.53369140625, 4553.84326171875, 4274.8720703125, 4227.2373046875, 4159.72998046875, 4069.2216796875, 3949.8427734375, 3887.5849609375, 3694.405029296875, 3885.112548828125, 3381.218017578125, 3330.048583984375, 3273.41455078125, 3267.0263671875, 3074.350830078125, 3100.193603515625, 3076.56640625, 2975.853515625, 2972.46142578125, 7493.4072265625, 4914.36328125, 3706.394287109375, 3586.756591796875, 3342.256591796875, 5365.10791015625, 6537.95556640625, 5371.7724609375, 5876.78271484375, 5739.1708984375, 4411.2822265625, 4156.20068359375, 3786.63623046875, 15960.873046875, 13873.79296875, 10330.91015625, 7306.4462890625, 6730.72412109375, 5861.84765625, 5146.490234375, 5057.43310546875, 5044.81787109375, 4963.85791015625, 4960.666015625, 4734.412109375, 4700.9736328125, 4437.310546875, 4336.12890625, 4316.61669921875, 4375.32177734375, 3984.604248046875, 3927.528564453125, 3623.30615234375, 3747.7763671875, 3524.5400390625, 3437.883056640625, 3420.252197265625, 3427.306640625, 3352.95068359375, 3072.567138671875, 2948.3173828125, 2879.962158203125, 2805.244140625, 6418.91064453125, 4548.0009765625, 4032.89697265625, 3825.018310546875, 5319.4189453125, 4528.9150390625, 9327.7744140625, 8443.0546875, 8316.26171875, 6736.64111328125, 9162.294921875, 5151.29150390625, 5014.52685546875, 5067.31494140625, 4524.154296875], \"Term\": [\"police\", \"australian\", \"trump\", \"charge\", \"court\", \"government\", \"queensland\", \"attack\", \"south\", \"murder\", \"kill\", \"death\", \"house\", \"face\", \"warn\", \"crash\", \"woman\", \"market\", \"country\", \"health\", \"jail\", \"interview\", \"fund\", \"rural\", \"live\", \"shoot\", \"miss\", \"plan\", \"drug\", \"accuse\", \"police\", \"charge\", \"court\", \"attack\", \"murder\", \"south\", \"kill\", \"face\", \"woman\", \"jail\", \"interview\", \"shoot\", \"drug\", \"accuse\", \"child\", \"arrest\", \"family\", \"life\", \"trial\", \"abuse\", \"sentence\", \"assault\", \"case\", \"news\", \"allege\", \"stab\", \"appeal\", \"officer\", \"suspect\", \"investigate\", \"death\", \"farm\", \"mother\", \"hear\", \"tell\", \"sydney\", \"health\", \"country\", \"rural\", \"fund\", \"indigenous\", \"tasmania\", \"turnbull\", \"fall\", \"federal\", \"port\", \"energy\", \"inquiry\", \"mine\", \"rugby\", \"festival\", \"ash\", \"target\", \"cricket\", \"mental\", \"peter\", \"history\", \"unite\", \"number\", \"rail\", \"womens\", \"mount\", \"social\", \"film\", \"track\", \"newcastle\", \"regional\", \"national\", \"state\", \"say\", \"lead\", \"media\", \"australia\", \"program\", \"need\", \"election\", \"adelaide\", \"trump\", \"crash\", \"donald\", \"hour\", \"deal\", \"league\", \"beat\", \"island\", \"live\", \"young\", \"weather\", \"western\", \"drive\", \"malcolm\", \"david\", \"chinese\", \"michael\", \"sign\", \"sport\", \"coal\", \"win\", \"truck\", \"cause\", \"india\", \"dollar\", \"union\", \"final\", \"cattle\", \"star\", \"podcast\", \"bring\", \"grand\", \"tour\", \"test\", \"world\", \"open\", \"australia\", \"die\", \"record\", \"sydney\", \"adelaide\", \"christmas\", \"say\", \"australian\", \"house\", \"market\", \"rise\", \"price\", \"break\", \"west\", \"high\", \"bank\", \"budget\", \"royal\", \"victoria\", \"release\", \"public\", \"storm\", \"drum\", \"commission\", \"students\", \"marriage\", \"premier\", \"business\", \"cut\", \"mark\", \"plead\", \"rat\", \"damage\", \"video\", \"right\", \"central\", \"climate\", \"miss\", \"guilty\", \"hill\", \"baby\", \"wall\", \"share\", \"perth\", \"brisbane\", \"home\", \"school\", \"china\", \"year\", \"help\", \"government\", \"queensland\", \"warn\", \"water\", \"gold\", \"park\", \"green\", \"fear\", \"hobart\", \"violence\", \"john\", \"korea\", \"farmers\", \"save\", \"residents\", \"protest\", \"street\", \"job\", \"parliament\", \"issue\", \"beach\", \"debate\", \"stop\", \"light\", \"come\", \"domestic\", \"super\", \"political\", \"reject\", \"emergency\", \"concern\", \"station\", \"laws\", \"river\", \"vote\", \"industry\", \"plan\", \"north\", \"election\", \"coast\", \"say\", \"council\", \"call\", \"change\", \"labor\"], \"Total\": [27670.0, 17543.0, 16052.0, 16384.0, 15367.0, 15961.0, 13874.0, 11817.0, 11454.0, 11270.0, 11055.0, 10672.0, 9857.0, 9969.0, 10331.0, 9422.0, 9618.0, 8519.0, 8564.0, 8519.0, 8395.0, 8279.0, 8273.0, 8072.0, 7752.0, 7829.0, 7513.0, 12473.0, 7495.0, 7427.0, 27670.77734375, 16384.60546875, 15367.68359375, 11817.2041015625, 11270.8447265625, 11454.53125, 11055.029296875, 9969.455078125, 9618.76171875, 8395.5185546875, 8279.3095703125, 7829.650390625, 7495.732421875, 7427.4482421875, 7170.01904296875, 7094.1904296875, 6509.61083984375, 6235.966796875, 5856.818359375, 5676.86328125, 5611.9990234375, 5536.9521484375, 5376.56201171875, 5340.82666015625, 4957.0439453125, 3619.287353515625, 3618.66162109375, 3433.302001953125, 3272.717529296875, 3232.05810546875, 10672.1484375, 5090.18896484375, 3756.069091796875, 4873.298828125, 5629.2314453125, 14879.0830078125, 8519.8369140625, 8564.1689453125, 8072.95849609375, 8273.7744140625, 7192.140625, 6769.80029296875, 6530.0498046875, 5900.8818359375, 4978.81982421875, 4675.98828125, 4115.19921875, 3845.4814453125, 3740.133544921875, 3582.037109375, 3461.696533203125, 3513.71142578125, 3428.044677734375, 3234.8291015625, 3174.681884765625, 3112.187255859375, 2928.7890625, 2805.6904296875, 2785.389404296875, 2721.413818359375, 2688.35498046875, 2654.396484375, 2578.140869140625, 2606.591796875, 2527.19921875, 3346.427490234375, 3648.0703125, 6608.0498046875, 8937.736328125, 27706.09765625, 5246.2109375, 4067.2646484375, 22546.890625, 4661.8154296875, 5755.0546875, 12723.216796875, 10459.4912109375, 16052.8076171875, 9422.1142578125, 7059.02685546875, 5647.32080078125, 5740.3525390625, 5627.65869140625, 4542.45166015625, 4502.87744140625, 7752.69287109375, 4032.8896484375, 3527.034912109375, 3464.769775390625, 3382.93505859375, 3365.306396484375, 3208.750244140625, 3188.39208984375, 3163.96630859375, 3092.572998046875, 3051.226318359375, 2940.3154296875, 6667.9658203125, 2837.408935546875, 2852.987060546875, 2811.220947265625, 2790.006591796875, 2778.314453125, 5626.95458984375, 2540.840087890625, 3975.588623046875, 2504.531005859375, 2857.32568359375, 2560.342529296875, 2829.828125, 8941.87890625, 10867.783203125, 9017.5498046875, 22546.890625, 8681.8759765625, 6208.7705078125, 14879.0830078125, 10459.4912109375, 4741.91943359375, 27706.09765625, 17543.1171875, 9857.1728515625, 8519.5322265625, 6741.51904296875, 6087.220703125, 5971.13232421875, 6366.19482421875, 6184.44287109375, 5017.732421875, 4804.43994140625, 4796.87158203125, 4751.2509765625, 4554.55859375, 4275.58544921875, 4227.951171875, 4160.44287109375, 4069.933837890625, 3950.556396484375, 3888.31591796875, 3695.120849609375, 3885.88671875, 3381.92919921875, 3330.76416015625, 3274.1259765625, 3267.7373046875, 3075.062255859375, 3100.91552734375, 3077.282958984375, 2976.56591796875, 2973.177001953125, 7513.6728515625, 4915.61572265625, 3707.570556640625, 3642.773681640625, 3395.01708984375, 6108.7578125, 9427.25390625, 7886.00634765625, 9336.775390625, 9587.3212890625, 6885.8271484375, 8842.3603515625, 9075.5546875, 15961.560546875, 13874.486328125, 10331.6005859375, 7307.1337890625, 6731.41162109375, 5862.5380859375, 5147.17626953125, 5058.12109375, 5045.51318359375, 4964.5458984375, 4961.3603515625, 4735.1015625, 4701.6689453125, 4438.001953125, 4336.81591796875, 4317.30419921875, 4376.02587890625, 3985.29150390625, 3928.216552734375, 3623.9990234375, 3748.499267578125, 3525.228271484375, 3438.572998046875, 3420.94091796875, 3428.000244140625, 3353.6376953125, 3073.259765625, 2949.0087890625, 2880.648193359375, 2805.934814453125, 6421.71484375, 4549.826171875, 4034.033935546875, 3831.713134765625, 5403.95703125, 4629.0673828125, 12473.083984375, 11080.8076171875, 12723.216796875, 10112.765625, 27706.09765625, 8304.447265625, 9798.40234375, 10380.564453125, 7277.6591796875], \"loglift\": [30.0, 29.0, 28.0, 27.0, 26.0, 25.0, 24.0, 23.0, 22.0, 21.0, 20.0, 19.0, 18.0, 17.0, 16.0, 15.0, 14.0, 13.0, 12.0, 11.0, 10.0, 9.0, 8.0, 7.0, 6.0, 5.0, 4.0, 3.0, 2.0, 1.0, 1.598099946975708, 1.598099946975708, 1.598099946975708, 1.598099946975708, 1.598099946975708, 1.598099946975708, 1.598099946975708, 1.598099946975708, 1.598099946975708, 1.598099946975708, 1.598099946975708, 1.5980000495910645, 1.5980000495910645, 1.5980000495910645, 1.5980000495910645, 1.5980000495910645, 1.5980000495910645, 1.5980000495910645, 1.5980000495910645, 1.5980000495910645, 1.5980000495910645, 1.5980000495910645, 1.5980000495910645, 1.5980000495910645, 1.5980000495910645, 1.5979000329971313, 1.5979000329971313, 1.5979000329971313, 1.5979000329971313, 1.5979000329971313, 1.5978000164031982, 1.5972000360488892, 1.5957000255584717, 1.451200008392334, 1.2856999635696411, 0.5759999752044678, 1.593500018119812, 1.593500018119812, 1.593500018119812, 1.593500018119812, 1.593500018119812, 1.593500018119812, 1.593500018119812, 1.593500018119812, 1.593500018119812, 1.593500018119812, 1.593400001525879, 1.593400001525879, 1.593400001525879, 1.593400001525879, 1.593400001525879, 1.593400001525879, 1.593400001525879, 1.593400001525879, 1.593400001525879, 1.593400001525879, 1.593400001525879, 1.593400001525879, 1.593400001525879, 1.5932999849319458, 1.5932999849319458, 1.5932999849319458, 1.5932999849319458, 1.5932999849319458, 1.5932999849319458, 1.5932999849319458, 1.5888999700546265, 1.3693000078201294, 1.0915000438690186, 0.5878999829292297, 1.2410000562667847, 1.3592000007629395, 0.2766999900341034, 1.263700008392334, 1.0789999961853027, 0.3774999976158142, 0.48669999837875366, 1.6575000286102295, 1.6574000120162964, 1.6574000120162964, 1.6574000120162964, 1.6574000120162964, 1.6574000120162964, 1.6574000120162964, 1.6574000120162964, 1.6574000120162964, 1.6572999954223633, 1.6572999954223633, 1.6572999954223633, 1.6572999954223633, 1.6572999954223633, 1.6572999954223633, 1.6572999954223633, 1.6572999954223633, 1.6572999954223633, 1.6572999954223633, 1.6572999954223633, 1.6572999954223633, 1.6572999954223633, 1.6572999954223633, 1.6572999954223633, 1.6572999954223633, 1.6572999954223633, 1.6572999954223633, 1.6571999788284302, 1.6571999788284302, 1.6571999788284302, 1.655500054359436, 1.656999945640564, 1.6402000188827515, 1.4230999946594238, 1.3451000452041626, 1.2145999670028687, 0.8604000210762024, 1.097499966621399, 1.1576999425888062, 0.5557000041007996, 0.6923999786376953, 1.2826000452041626, -0.30169999599456787, 1.673799991607666, 1.673799991607666, 1.673799991607666, 1.673699975013733, 1.673699975013733, 1.673699975013733, 1.673699975013733, 1.673699975013733, 1.673699975013733, 1.673699975013733, 1.673699975013733, 1.673699975013733, 1.673699975013733, 1.673699975013733, 1.673699975013733, 1.673699975013733, 1.673699975013733, 1.673699975013733, 1.673699975013733, 1.673699975013733, 1.6735999584197998, 1.6735999584197998, 1.6735999584197998, 1.6735999584197998, 1.6735999584197998, 1.6735999584197998, 1.6735999584197998, 1.6735999584197998, 1.6735999584197998, 1.6735999584197998, 1.6711000204086304, 1.6735999584197998, 1.6734999418258667, 1.658400058746338, 1.6582000255584717, 1.5440000295639038, 1.3078999519348145, 1.2898999452590942, 1.2108999490737915, 1.1606999635696411, 1.2285000085830688, 0.9189000129699707, 0.7997000217437744, 1.5305999517440796, 1.5305999517440796, 1.5305999517440796, 1.530500054359436, 1.530500054359436, 1.530500054359436, 1.530500054359436, 1.530500054359436, 1.530500054359436, 1.530500054359436, 1.530500054359436, 1.530500054359436, 1.530500054359436, 1.530500054359436, 1.530500054359436, 1.530500054359436, 1.530500054359436, 1.530500054359436, 1.530500054359436, 1.530400037765503, 1.530400037765503, 1.530400037765503, 1.530400037765503, 1.530400037765503, 1.530400037765503, 1.530400037765503, 1.530400037765503, 1.530400037765503, 1.530400037765503, 1.530400037765503, 1.5302000045776367, 1.5302000045776367, 1.5303000211715698, 1.5289000272750854, 1.5148999691009521, 1.5088000297546387, 1.2400000095367432, 1.2588000297546387, 1.1053999662399292, 1.124400019645691, 0.42410001158714294, 1.0530999898910522, 0.8607000112533569, 0.8134999871253967, 1.0551999807357788], \"logprob\": [30.0, 29.0, 28.0, 27.0, 26.0, 25.0, 24.0, 23.0, 22.0, 21.0, 20.0, 19.0, 18.0, 17.0, 16.0, 15.0, 14.0, 13.0, 12.0, 11.0, 10.0, 9.0, 8.0, 7.0, 6.0, 5.0, 4.0, 3.0, 2.0, 1.0, -3.573499917984009, -4.097499847412109, -4.161600112915039, -4.424300193786621, -4.471700191497803, -4.45550012588501, -4.491000175476074, -4.594399929046631, -4.630199909210205, -4.766200065612793, -4.780200004577637, -4.835999965667725, -4.8796000480651855, -4.888800144195557, -4.923999786376953, -4.934700012207031, -5.020699977874756, -5.063600063323975, -5.126399993896484, -5.157599925994873, -5.169099807739258, -5.182499885559082, -5.211900234222412, -5.218599796295166, -5.2932000160217285, -5.607800006866455, -5.607900142669678, -5.6605000495910645, -5.708399772644043, -5.720900058746338, -4.526500225067139, -5.267499923706055, -5.57289981842041, -5.456999778747559, -5.478300094604492, -5.216000080108643, -4.756100177764893, -4.750899791717529, -4.809899806976318, -4.785399913787842, -4.92549991607666, -4.986000061035156, -5.02209997177124, -5.1234002113342285, -5.293300151824951, -5.356100082397461, -5.48390007019043, -5.551700115203857, -5.579400062561035, -5.622600078582764, -5.656799793243408, -5.641900062561035, -5.666600227355957, -5.724599838256836, -5.7434000968933105, -5.763299942016602, -5.823999881744385, -5.867000102996826, -5.874199867248535, -5.897500038146973, -5.9096999168396, -5.922399997711182, -5.951600074768066, -5.9405999183654785, -5.971499919891357, -5.690800189971924, -5.60890007019043, -5.234399795532227, -5.21019983291626, -4.582399845123291, -5.593400001525879, -5.729800224304199, -5.099699974060059, -5.688899993896484, -5.662899971008301, -5.571100234985352, -5.657800197601318, -4.058599948883057, -4.5914998054504395, -4.880199909210205, -5.103400230407715, -5.087100028991699, -5.106900215148926, -5.321100234985352, -5.329899787902832, -4.786600112915039, -5.440100193023682, -5.57420015335083, -5.5920000076293945, -5.615900039672852, -5.621200084686279, -5.668799877166748, -5.67519998550415, -5.682799816131592, -5.705699920654297, -5.719099998474121, -5.756199836730957, -4.937399864196777, -5.791800022125244, -5.786300182342529, -5.80109977722168, -5.808700084686279, -5.812900066375732, -5.1072001457214355, -5.902200222015381, -5.454599857330322, -5.916600227355957, -5.786499977111816, -5.894800186157227, -5.811500072479248, -4.8780999183654785, -4.761099815368652, -5.078199863433838, -4.515999794006348, -5.2332000732421875, -5.508299827575684, -5.236400127410889, -5.452099800109863, -5.652900218963623, -5.4720001220703125, -3.9535000324249268, -4.53000020980835, -4.675899982452393, -4.909900188446045, -5.0121002197265625, -5.031300067901611, -4.967199802398682, -4.996200084686279, -5.2052998542785645, -5.248700141906738, -5.25029993057251, -5.259900093078613, -5.302199840545654, -5.3653998374938965, -5.3765997886657715, -5.3927001953125, -5.414700031280518, -5.444499969482422, -5.460299968719482, -5.511300086975098, -5.460999965667725, -5.599899768829346, -5.615099906921387, -5.632299900054932, -5.634200096130371, -5.695000171661377, -5.686699867248535, -5.694300174713135, -5.72760009765625, -5.728700160980225, -4.804100036621094, -5.22599983215332, -5.5081000328063965, -5.540900230407715, -5.611499786376953, -5.138199806213379, -4.940499782562256, -5.13700008392334, -5.047100067138672, -5.070799827575684, -5.334000110626221, -5.393499851226807, -5.486599922180176, -4.191199779510498, -4.331299781799316, -4.626200199127197, -4.972599983215332, -5.054699897766113, -5.19290018081665, -5.322999954223633, -5.3404998779296875, -5.3429999351501465, -5.3592000007629395, -5.359799861907959, -5.406499862670898, -5.413599967956543, -5.47130012512207, -5.4944000244140625, -5.498899936676025, -5.485400199890137, -5.57889986038208, -5.593299865722656, -5.673999786376953, -5.640200138092041, -5.701600074768066, -5.726500034332275, -5.731599807739258, -5.729599952697754, -5.751500129699707, -5.838799953460693, -5.880099773406982, -5.903600215911865, -5.929900169372559, -5.102099895477295, -5.446700096130371, -5.56689977645874, -5.619800090789795, -5.289999961853027, -5.450900077819824, -4.728400230407715, -4.828000068664551, -4.843100070953369, -5.053800106048584, -4.746300220489502, -5.3221001625061035, -5.348999977111816, -5.338500022888184, -5.451900005340576]}, \"token.table\": {\"Topic\": [1, 1, 1, 2, 3, 4, 5, 1, 1, 1, 2, 1, 1, 1, 2, 3, 4, 5, 4, 1, 4, 4, 5, 3, 4, 1, 3, 1, 4, 4, 4, 1, 2, 4, 5, 1, 3, 3, 4, 2, 3, 4, 5, 1, 1, 3, 4, 3, 3, 5, 4, 3, 4, 5, 5, 4, 3, 5, 2, 4, 5, 2, 1, 3, 2, 4, 4, 3, 3, 1, 4, 5, 1, 3, 3, 5, 3, 3, 1, 4, 2, 3, 4, 5, 5, 2, 1, 2, 1, 1, 5, 5, 5, 2, 2, 2, 2, 3, 2, 5, 5, 2, 3, 5, 1, 4, 2, 1, 2, 2, 4, 5, 4, 4, 5, 2, 5, 1, 3, 4, 3, 4, 3, 2, 3, 5, 2, 1, 1, 3, 5, 1, 5, 5, 1, 5, 2, 5, 4, 5, 1, 2, 3, 1, 5, 3, 5, 3, 4, 4, 4, 2, 3, 2, 3, 2, 1, 4, 1, 4, 2, 1, 2, 5, 2, 4, 5, 2, 1, 4, 5, 2, 1, 2, 3, 5, 5, 5, 1, 4, 2, 2, 4, 5, 4, 3, 1, 5, 2, 4, 4, 2, 5, 5, 4, 5, 2, 4, 3, 4, 2, 4, 5, 4, 5, 4, 4, 1, 2, 5, 4, 2, 2, 5, 1, 2, 3, 4, 5, 2, 3, 4, 5, 1, 2, 3, 4, 1, 3, 2, 1, 3, 1, 2, 3, 2, 5, 1, 5, 5, 4, 5, 4, 5, 1, 1, 2, 3, 4, 5, 2, 2, 1, 2, 3, 5, 2, 3, 2, 1, 3, 3, 2, 3, 2, 4, 4, 5, 2, 3, 4, 5, 4, 5, 5, 5, 3, 4, 3, 2, 3, 1, 2, 2, 3, 1, 3, 4, 3], \"Freq\": [0.999847948551178, 0.9999396800994873, 0.20402522385120392, 0.3306088149547577, 0.38089805841445923, 0.0017209249781444669, 0.08270000666379929, 0.9997894167900085, 0.9998171925544739, 0.9998322129249573, 0.999797523021698, 0.999828040599823, 0.9999827146530151, 0.03774356469511986, 0.267974853515625, 0.4506164491176605, 0.1071544662117958, 0.1365598440170288, 0.9999363422393799, 0.015098385512828827, 0.9846892356872559, 0.9998540282249451, 0.999866783618927, 0.9999005794525146, 0.9998103380203247, 0.0017498880624771118, 0.9981361031532288, 0.31879255175590515, 0.6812066435813904, 0.999908447265625, 0.9997718334197998, 0.000612344709224999, 0.31678634881973267, 0.1708441823720932, 0.5118181109428406, 0.999895453453064, 0.9996693730354309, 0.9996540546417236, 0.9998098611831665, 0.2970936596393585, 0.00019266775052528828, 0.21453553438186646, 0.48812374472618103, 0.9999630451202393, 0.9998579025268555, 0.3592887222766876, 0.6405911445617676, 0.9998770356178284, 0.6872744560241699, 0.3125316798686981, 0.9996041059494019, 0.9998927116394043, 0.3338354825973511, 0.6661877036094666, 0.9997082352638245, 0.9997705817222595, 0.0003114432911388576, 0.9995772242546082, 0.23722228407859802, 0.14233337342739105, 0.6202700734138489, 0.9998635053634644, 0.9999555349349976, 0.9998817443847656, 0.9997437000274658, 0.9997252225875854, 0.9996545314788818, 0.9997661709785461, 0.9999386072158813, 0.9997049570083618, 0.00028110554558224976, 0.9999352693557739, 0.4287091791629791, 0.5711899399757385, 0.9996392130851746, 0.9998098611831665, 0.9998545050621033, 0.9997236132621765, 0.9999023079872131, 0.9998935461044312, 0.29638731479644775, 0.0022007012739777565, 0.0477866567671299, 0.6536082625389099, 0.9996668696403503, 0.9997085928916931, 0.999954342842102, 0.9998505711555481, 0.9999061822891235, 0.9989805817604065, 0.0007858254248276353, 0.9998577237129211, 0.9997783303260803, 0.9998353123664856, 0.9997987747192383, 0.9997729659080505, 0.00017771602142602205, 0.999652624130249, 0.9999064207077026, 0.9999388456344604, 0.9999648928642273, 0.0003905727353412658, 0.9994756579399109, 0.9997714757919312, 0.000203433315618895, 0.9996712803840637, 0.9999017715454102, 0.8632755875587463, 0.13666307926177979, 0.29805341362953186, 0.4172747731208801, 0.28472089767456055, 0.9999284148216248, 0.9995763897895813, 0.0002697184099815786, 0.9997305870056152, 0.9998983144760132, 0.2837167978286743, 0.0867537185549736, 0.6294464468955994, 0.999943196773529, 0.9998810291290283, 0.9999213814735413, 0.9998413920402527, 0.021602623164653778, 0.9783828258514404, 0.9998748302459717, 0.9999626278877258, 0.9996726512908936, 0.9998051524162292, 0.9997243285179138, 0.9999382495880127, 0.9999268651008606, 0.9999273419380188, 0.9999068975448608, 0.9997673630714417, 0.37828096747398376, 0.62162846326828, 0.0002478908281773329, 0.9997437000274658, 0.296976238489151, 0.7027929425239563, 0.9998829364776611, 0.9998449683189392, 0.9997249245643616, 0.9997816681861877, 0.00012898743443656713, 0.999908983707428, 0.9997705817222595, 0.9999375343322754, 0.9999187588691711, 0.790949285030365, 0.20873980224132538, 0.9997851848602295, 0.9996945858001709, 0.9996969103813171, 0.0026618139818310738, 0.997248649597168, 0.9975854754447937, 0.0021298862993717194, 0.9998506307601929, 0.9999250769615173, 0.7990254759788513, 0.20081567764282227, 0.5977354049682617, 0.08496878296136856, 0.31728631258010864, 0.9995734095573425, 0.9998452067375183, 0.23797903954982758, 0.7619480490684509, 0.9998602271080017, 0.9999120235443115, 0.1874123215675354, 0.6421921849250793, 0.17033451795578003, 0.9999082088470459, 0.9999448657035828, 0.3064519166946411, 0.6935211420059204, 0.9996185302734375, 0.25174206495285034, 0.00040086318040266633, 0.7478503584861755, 0.999656081199646, 0.9997879862785339, 0.9999719262123108, 0.999657928943634, 0.9997886419296265, 0.999696671962738, 0.9999637603759766, 0.7190331816673279, 0.281006395816803, 0.9999295473098755, 0.9998630881309509, 0.9999649524688721, 0.999847948551178, 0.9997743964195251, 0.6065613031387329, 0.3933145999908447, 0.995320737361908, 0.0046599977649748325, 0.9997749924659729, 0.9998773336410522, 0.9998118877410889, 0.9999080300331116, 0.9999229907989502, 0.0013048993423581123, 0.00026097986847162247, 0.9982479810714722, 0.9998183250427246, 0.9997104406356812, 0.9998812675476074, 0.9997742176055908, 0.08806725591421127, 0.36580395698547363, 0.1409797966480255, 0.07446014136075974, 0.3306853175163269, 0.23958726227283478, 0.00020860884978901595, 0.5986030697822571, 0.1615675538778305, 0.9998219609260559, 0.12162865698337555, 0.00016369939839933068, 0.8782473206520081, 0.9999169111251831, 0.9998146891593933, 0.9995574951171875, 0.9999536275863647, 0.9995980858802795, 0.9999206066131592, 0.00025153509341180325, 0.9996004104614258, 0.6052986979484558, 0.394730806350708, 0.0002197886205976829, 0.9995986223220825, 0.999833345413208, 0.9997750520706177, 0.9997655749320984, 0.9998591542243958, 0.9999154806137085, 0.9997807741165161, 0.3598340153694153, 0.010887768119573593, 0.3322785496711731, 0.1912752240896225, 0.10578609257936478, 0.9996952414512634, 0.9998818039894104, 0.7317162156105042, 0.26824265718460083, 0.7911089062690735, 0.20890463888645172, 0.016962161287665367, 0.9827451705932617, 0.9999211430549622, 0.9998602867126465, 0.9998558759689331, 0.9999496936798096, 0.9998392462730408, 0.9998868107795715, 0.9997538924217224, 0.999947190284729, 0.9997047781944275, 0.9998900294303894, 0.00018504959007259458, 0.0005551487556658685, 0.014803966507315636, 0.9842787384986877, 0.9843838810920715, 0.015316564589738846, 0.999941885471344, 0.9998448491096497, 0.9997065663337708, 0.9998123049736023, 0.9997778534889221, 0.0001499707723269239, 0.9997051954269409, 0.9999207854270935, 0.9998679757118225, 0.26831600069999695, 0.7317039370536804, 0.18049480020999908, 0.34945419430732727, 0.47001025080680847, 0.9997794032096863], \"Term\": [\"abuse\", \"accuse\", \"adelaide\", \"adelaide\", \"adelaide\", \"adelaide\", \"adelaide\", \"allege\", \"appeal\", \"arrest\", \"ash\", \"assault\", \"attack\", \"australia\", \"australia\", \"australia\", \"australia\", \"australia\", \"australian\", \"baby\", \"baby\", \"bank\", \"beach\", \"beat\", \"break\", \"bring\", \"bring\", \"brisbane\", \"brisbane\", \"budget\", \"business\", \"call\", \"call\", \"call\", \"call\", \"case\", \"cattle\", \"cause\", \"central\", \"change\", \"change\", \"change\", \"change\", \"charge\", \"child\", \"china\", \"china\", \"chinese\", \"christmas\", \"christmas\", \"climate\", \"coal\", \"coast\", \"coast\", \"come\", \"commission\", \"concern\", \"concern\", \"council\", \"council\", \"council\", \"country\", \"court\", \"crash\", \"cricket\", \"cut\", \"damage\", \"david\", \"deal\", \"death\", \"death\", \"debate\", \"die\", \"die\", \"dollar\", \"domestic\", \"donald\", \"drive\", \"drug\", \"drum\", \"election\", \"election\", \"election\", \"election\", \"emergency\", \"energy\", \"face\", \"fall\", \"family\", \"farm\", \"farm\", \"farmers\", \"fear\", \"federal\", \"festival\", \"film\", \"final\", \"final\", \"fund\", \"gold\", \"government\", \"grand\", \"grand\", \"green\", \"guilty\", \"guilty\", \"health\", \"hear\", \"hear\", \"help\", \"help\", \"help\", \"high\", \"hill\", \"hill\", \"history\", \"hobart\", \"home\", \"home\", \"home\", \"hour\", \"house\", \"india\", \"indigenous\", \"industry\", \"industry\", \"inquiry\", \"interview\", \"investigate\", \"island\", \"issue\", \"jail\", \"job\", \"john\", \"kill\", \"korea\", \"labor\", \"labor\", \"laws\", \"laws\", \"lead\", \"lead\", \"league\", \"life\", \"light\", \"live\", \"live\", \"malcolm\", \"mark\", \"market\", \"marriage\", \"media\", \"media\", \"mental\", \"michael\", \"mine\", \"miss\", \"miss\", \"mother\", \"mother\", \"mount\", \"murder\", \"national\", \"national\", \"need\", \"need\", \"need\", \"newcastle\", \"news\", \"north\", \"north\", \"number\", \"officer\", \"open\", \"open\", \"open\", \"park\", \"parliament\", \"perth\", \"perth\", \"peter\", \"plan\", \"plan\", \"plan\", \"plead\", \"podcast\", \"police\", \"political\", \"port\", \"premier\", \"price\", \"program\", \"program\", \"protest\", \"public\", \"queensland\", \"rail\", \"rat\", \"record\", \"record\", \"regional\", \"regional\", \"reject\", \"release\", \"residents\", \"right\", \"rise\", \"river\", \"river\", \"river\", \"royal\", \"rugby\", \"rural\", \"save\", \"say\", \"say\", \"say\", \"say\", \"say\", \"school\", \"school\", \"school\", \"school\", \"sentence\", \"share\", \"share\", \"share\", \"shoot\", \"sign\", \"social\", \"south\", \"sport\", \"stab\", \"star\", \"star\", \"state\", \"state\", \"station\", \"station\", \"stop\", \"storm\", \"street\", \"students\", \"super\", \"suspect\", \"sydney\", \"sydney\", \"sydney\", \"sydney\", \"sydney\", \"target\", \"tasmania\", \"tell\", \"tell\", \"test\", \"test\", \"tour\", \"tour\", \"track\", \"trial\", \"truck\", \"trump\", \"turnbull\", \"union\", \"unite\", \"victoria\", \"video\", \"violence\", \"vote\", \"vote\", \"vote\", \"vote\", \"wall\", \"wall\", \"warn\", \"water\", \"weather\", \"west\", \"western\", \"win\", \"win\", \"woman\", \"womens\", \"world\", \"world\", \"year\", \"year\", \"year\", \"young\"]}, \"R\": 30, \"lambda.step\": 0.01, \"plot.opts\": {\"xlab\": \"PC1\", \"ylab\": \"PC2\"}, \"topic.order\": [1, 2, 3, 4, 5]};\n",
       "\n",
       "function LDAvis_load_lib(url, callback){\n",
       "  var s = document.createElement('script');\n",
       "  s.src = url;\n",
       "  s.async = true;\n",
       "  s.onreadystatechange = s.onload = callback;\n",
       "  s.onerror = function(){console.warn(\"failed to load library \" + url);};\n",
       "  document.getElementsByTagName(\"head\")[0].appendChild(s);\n",
       "}\n",
       "\n",
       "if(typeof(LDAvis) !== \"undefined\"){\n",
       "   // already loaded: just create the visualization\n",
       "   !function(LDAvis){\n",
       "       new LDAvis(\"#\" + \"ldavis_el1266423757919825362068385715\", ldavis_el1266423757919825362068385715_data);\n",
       "   }(LDAvis);\n",
       "}else if(typeof define === \"function\" && define.amd){\n",
       "   // require.js is available: use it to load d3/LDAvis\n",
       "   require.config({paths: {d3: \"https://cdnjs.cloudflare.com/ajax/libs/d3/3.5.5/d3.min\"}});\n",
       "   require([\"d3\"], function(d3){\n",
       "      window.d3 = d3;\n",
       "      LDAvis_load_lib(\"https://cdn.rawgit.com/bmabey/pyLDAvis/files/ldavis.v1.0.0.js\", function(){\n",
       "        new LDAvis(\"#\" + \"ldavis_el1266423757919825362068385715\", ldavis_el1266423757919825362068385715_data);\n",
       "      });\n",
       "    });\n",
       "}else{\n",
       "    // require.js not available: dynamically load d3 & LDAvis\n",
       "    LDAvis_load_lib(\"https://cdnjs.cloudflare.com/ajax/libs/d3/3.5.5/d3.min.js\", function(){\n",
       "         LDAvis_load_lib(\"https://cdn.rawgit.com/bmabey/pyLDAvis/files/ldavis.v1.0.0.js\", function(){\n",
       "                 new LDAvis(\"#\" + \"ldavis_el1266423757919825362068385715\", ldavis_el1266423757919825362068385715_data);\n",
       "            })\n",
       "         });\n",
       "}\n",
       "</script>"
      ],
      "text/plain": [
       "<IPython.core.display.HTML object>"
      ]
     },
     "execution_count": 22,
     "metadata": {},
     "output_type": "execute_result"
    }
   ],
   "source": [
    "import pyLDAvis.gensim\n",
    "lda_display = pyLDAvis.gensim.prepare(lda, corpus, dictionary, sort_topics=False)\n",
    "pyLDAvis.display(lda_display)"
   ]
  },
  {
   "cell_type": "code",
   "execution_count": 24,
   "metadata": {},
   "outputs": [
    {
     "data": {
      "text/html": [
       "\n",
       "<link rel=\"stylesheet\" type=\"text/css\" href=\"https://cdn.rawgit.com/bmabey/pyLDAvis/files/ldavis.v1.0.0.css\">\n",
       "\n",
       "\n",
       "<div id=\"ldavis_el1266423757919821769772350882\"></div>\n",
       "<script type=\"text/javascript\">\n",
       "\n",
       "var ldavis_el1266423757919821769772350882_data = {\"mdsDat\": {\"x\": [0.3617298249793749, -0.18847320722186425, 0.06085441351622314, -0.023222102122285006, -0.2108889291514488], \"y\": [0.10789702079984811, -0.04816011693399219, -0.3565742690800451, 0.19285438202629768, 0.10398298318789145], \"topics\": [1, 2, 3, 4, 5], \"cluster\": [1, 1, 1, 1, 1], \"Freq\": [20.22687339782715, 20.318811416625977, 19.0607852935791, 18.752408981323242, 21.64112091064453]}, \"tinfo\": {\"Category\": [\"Default\", \"Default\", \"Default\", \"Default\", \"Default\", \"Default\", \"Default\", \"Default\", \"Default\", \"Default\", \"Default\", \"Default\", \"Default\", \"Default\", \"Default\", \"Default\", \"Default\", \"Default\", \"Default\", \"Default\", \"Default\", \"Default\", \"Default\", \"Default\", \"Default\", \"Default\", \"Default\", \"Default\", \"Default\", \"Default\", \"Topic1\", \"Topic1\", \"Topic1\", \"Topic1\", \"Topic1\", \"Topic1\", \"Topic1\", \"Topic1\", \"Topic1\", \"Topic1\", \"Topic1\", \"Topic1\", \"Topic1\", \"Topic1\", \"Topic1\", \"Topic1\", \"Topic1\", \"Topic1\", \"Topic1\", \"Topic1\", \"Topic1\", \"Topic1\", \"Topic1\", \"Topic1\", \"Topic1\", \"Topic1\", \"Topic1\", \"Topic1\", \"Topic1\", \"Topic1\", \"Topic1\", \"Topic1\", \"Topic1\", \"Topic1\", \"Topic1\", \"Topic1\", \"Topic2\", \"Topic2\", \"Topic2\", \"Topic2\", \"Topic2\", \"Topic2\", \"Topic2\", \"Topic2\", \"Topic2\", \"Topic2\", \"Topic2\", \"Topic2\", \"Topic2\", \"Topic2\", \"Topic2\", \"Topic2\", \"Topic2\", \"Topic2\", \"Topic2\", \"Topic2\", \"Topic2\", \"Topic2\", \"Topic2\", \"Topic2\", \"Topic2\", \"Topic2\", \"Topic2\", \"Topic2\", \"Topic2\", \"Topic2\", \"Topic2\", \"Topic2\", \"Topic2\", \"Topic2\", \"Topic2\", \"Topic2\", \"Topic2\", \"Topic2\", \"Topic2\", \"Topic2\", \"Topic2\", \"Topic3\", \"Topic3\", \"Topic3\", \"Topic3\", \"Topic3\", \"Topic3\", \"Topic3\", \"Topic3\", \"Topic3\", \"Topic3\", \"Topic3\", \"Topic3\", \"Topic3\", \"Topic3\", \"Topic3\", \"Topic3\", \"Topic3\", \"Topic3\", \"Topic3\", \"Topic3\", \"Topic3\", \"Topic3\", \"Topic3\", \"Topic3\", \"Topic3\", \"Topic3\", \"Topic3\", \"Topic3\", \"Topic3\", \"Topic3\", \"Topic3\", \"Topic3\", \"Topic3\", \"Topic3\", \"Topic3\", \"Topic3\", \"Topic3\", \"Topic3\", \"Topic3\", \"Topic3\", \"Topic3\", \"Topic3\", \"Topic3\", \"Topic4\", \"Topic4\", \"Topic4\", \"Topic4\", \"Topic4\", \"Topic4\", \"Topic4\", \"Topic4\", \"Topic4\", \"Topic4\", \"Topic4\", \"Topic4\", \"Topic4\", \"Topic4\", \"Topic4\", \"Topic4\", \"Topic4\", \"Topic4\", \"Topic4\", \"Topic4\", \"Topic4\", \"Topic4\", \"Topic4\", \"Topic4\", \"Topic4\", \"Topic4\", \"Topic4\", \"Topic4\", \"Topic4\", \"Topic4\", \"Topic4\", \"Topic4\", \"Topic4\", \"Topic4\", \"Topic4\", \"Topic4\", \"Topic4\", \"Topic4\", \"Topic4\", \"Topic4\", \"Topic4\", \"Topic4\", \"Topic4\", \"Topic5\", \"Topic5\", \"Topic5\", \"Topic5\", \"Topic5\", \"Topic5\", \"Topic5\", \"Topic5\", \"Topic5\", \"Topic5\", \"Topic5\", \"Topic5\", \"Topic5\", \"Topic5\", \"Topic5\", \"Topic5\", \"Topic5\", \"Topic5\", \"Topic5\", \"Topic5\", \"Topic5\", \"Topic5\", \"Topic5\", \"Topic5\", \"Topic5\", \"Topic5\", \"Topic5\", \"Topic5\", \"Topic5\", \"Topic5\", \"Topic5\", \"Topic5\", \"Topic5\", \"Topic5\", \"Topic5\", \"Topic5\", \"Topic5\", \"Topic5\", \"Topic5\", \"Topic5\", \"Topic5\", \"Topic5\", \"Topic5\", \"Topic5\", \"Topic5\"], \"Freq\": [27670.0, 17543.0, 16052.0, 16384.0, 15367.0, 15962.0, 13875.0, 11816.0, 11454.0, 11270.0, 11054.0, 10671.0, 9857.0, 9969.0, 10332.0, 9421.0, 9618.0, 8519.0, 8563.0, 8519.0, 8395.0, 8279.0, 8273.0, 8072.0, 7752.0, 7829.0, 7513.0, 12473.0, 7495.0, 7427.0, 27669.322265625, 16383.505859375, 15366.607421875, 11816.2119140625, 11453.5419921875, 11269.8720703125, 11054.05859375, 9968.5078125, 9617.8271484375, 8394.6162109375, 8278.41015625, 7828.76123046875, 7494.84814453125, 7426.5673828125, 7169.1416015625, 7093.31982421875, 6508.72900390625, 6235.10791015625, 5855.9765625, 5676.02197265625, 5611.16552734375, 5536.119140625, 5375.7314453125, 5339.99560546875, 4956.2255859375, 3618.504638671875, 3617.8759765625, 3432.521728515625, 3271.941650390625, 3231.28076171875, 10668.3583984375, 5085.197265625, 3746.99365234375, 4207.06591796875, 4118.44384765625, 5353.6533203125, 8518.970703125, 8563.298828125, 8072.10546875, 8272.892578125, 7191.298828125, 6768.96337890625, 6529.20751953125, 5900.06201171875, 4978.0205078125, 4675.1982421875, 4114.416015625, 3844.708251953125, 3739.36328125, 3581.264404296875, 3460.928955078125, 3512.93115234375, 3427.276123046875, 3234.063232421875, 3173.925048828125, 3111.423583984375, 2928.028076171875, 2804.93505859375, 2784.633056640625, 2720.66357421875, 2687.597412109375, 2653.64306640625, 2577.392578125, 2605.833984375, 2526.451416015625, 3345.423828125, 3630.82373046875, 5280.1044921875, 5409.57763671875, 10134.3154296875, 3687.362548828125, 3217.4052734375, 6041.4287109375, 3351.708251953125, 3439.827392578125, 3770.79248046875, 3457.625, 16051.853515625, 9421.2783203125, 7058.20849609375, 5646.53857421875, 5739.552734375, 5626.87353515625, 4541.68212890625, 4502.09912109375, 7751.25390625, 4032.11767578125, 3526.272705078125, 3464.008056640625, 3382.172607421875, 3364.51611328125, 3207.99169921875, 3187.631591796875, 3163.20751953125, 3091.81982421875, 3050.4609375, 2939.559326171875, 6666.22509765625, 2836.655517578125, 2852.228759765625, 2810.47119140625, 2789.251708984375, 2777.561279296875, 5625.361328125, 2540.094970703125, 3974.414794921875, 2503.7900390625, 2851.62646484375, 2558.975830078125, 2781.30224609375, 7073.44580078125, 7951.57373046875, 5790.830078125, 10159.818359375, 4958.99609375, 3766.3212890625, 4943.513671875, 3984.310546875, 3259.310546875, 3905.798095703125, 17542.365234375, 9856.4443359375, 8518.7685546875, 6740.79736328125, 6086.49951171875, 5970.40576171875, 6365.3935546875, 6183.658203125, 5017.01025390625, 4803.71923828125, 4796.1513671875, 4750.52587890625, 4553.83544921875, 4274.865234375, 4227.23046875, 4159.72314453125, 4069.215087890625, 3949.836181640625, 3887.57861328125, 3694.39892578125, 3885.106201171875, 3381.21240234375, 3330.043212890625, 3273.4091796875, 3267.02099609375, 3074.345703125, 3100.1884765625, 3076.561279296875, 2975.8486328125, 2972.45654296875, 7493.39453125, 4914.35498046875, 3706.38818359375, 3586.750732421875, 3342.251220703125, 5365.09912109375, 6537.94482421875, 5371.763671875, 5876.7734375, 5739.16162109375, 4411.27490234375, 4156.19384765625, 3786.630126953125, 15961.6748046875, 13874.490234375, 10331.4287109375, 7306.8134765625, 6731.0625, 5862.142578125, 5146.74853515625, 5057.6875, 5045.0712890625, 4964.10693359375, 4960.91552734375, 4734.64990234375, 4701.2099609375, 4437.53369140625, 4336.3466796875, 4316.83349609375, 4375.54150390625, 3984.804443359375, 3927.725830078125, 3623.48828125, 3747.964599609375, 3524.717041015625, 3438.055908203125, 3420.424072265625, 3427.47900390625, 3353.119140625, 3072.7216796875, 2948.465576171875, 2880.106689453125, 2805.385009765625, 6419.23291015625, 4548.2294921875, 4033.099609375, 3825.21044921875, 5319.6865234375, 4529.142578125, 9328.2431640625, 8443.4794921875, 8316.6796875, 6736.9794921875, 9162.755859375, 5151.55029296875, 5014.77880859375, 5067.5693359375, 4524.38134765625], \"Term\": [\"police\", \"australian\", \"trump\", \"charge\", \"court\", \"government\", \"queensland\", \"attack\", \"south\", \"murder\", \"kill\", \"death\", \"house\", \"face\", \"warn\", \"crash\", \"woman\", \"market\", \"country\", \"health\", \"jail\", \"interview\", \"fund\", \"rural\", \"live\", \"shoot\", \"miss\", \"plan\", \"drug\", \"accuse\", \"police\", \"charge\", \"court\", \"attack\", \"south\", \"murder\", \"kill\", \"face\", \"woman\", \"jail\", \"interview\", \"shoot\", \"drug\", \"accuse\", \"child\", \"arrest\", \"family\", \"life\", \"trial\", \"abuse\", \"sentence\", \"assault\", \"case\", \"news\", \"allege\", \"stab\", \"appeal\", \"officer\", \"suspect\", \"investigate\", \"death\", \"farm\", \"mother\", \"hear\", \"tell\", \"sydney\", \"health\", \"country\", \"rural\", \"fund\", \"indigenous\", \"tasmania\", \"turnbull\", \"fall\", \"federal\", \"port\", \"energy\", \"inquiry\", \"mine\", \"rugby\", \"festival\", \"ash\", \"target\", \"cricket\", \"mental\", \"peter\", \"history\", \"unite\", \"number\", \"rail\", \"womens\", \"mount\", \"social\", \"film\", \"track\", \"newcastle\", \"regional\", \"national\", \"state\", \"say\", \"lead\", \"media\", \"australia\", \"program\", \"need\", \"election\", \"adelaide\", \"trump\", \"crash\", \"donald\", \"hour\", \"deal\", \"league\", \"beat\", \"island\", \"live\", \"young\", \"weather\", \"western\", \"drive\", \"malcolm\", \"david\", \"chinese\", \"michael\", \"sign\", \"sport\", \"coal\", \"win\", \"truck\", \"cause\", \"india\", \"dollar\", \"union\", \"final\", \"cattle\", \"star\", \"podcast\", \"bring\", \"grand\", \"tour\", \"test\", \"world\", \"open\", \"australia\", \"die\", \"record\", \"sydney\", \"adelaide\", \"christmas\", \"say\", \"australian\", \"house\", \"market\", \"rise\", \"price\", \"break\", \"west\", \"high\", \"bank\", \"budget\", \"royal\", \"victoria\", \"release\", \"public\", \"storm\", \"drum\", \"commission\", \"students\", \"marriage\", \"premier\", \"business\", \"cut\", \"mark\", \"plead\", \"rat\", \"damage\", \"video\", \"right\", \"central\", \"climate\", \"miss\", \"guilty\", \"hill\", \"baby\", \"wall\", \"share\", \"perth\", \"brisbane\", \"home\", \"school\", \"china\", \"year\", \"help\", \"government\", \"queensland\", \"warn\", \"water\", \"gold\", \"park\", \"green\", \"fear\", \"hobart\", \"violence\", \"john\", \"korea\", \"farmers\", \"save\", \"residents\", \"protest\", \"street\", \"job\", \"parliament\", \"issue\", \"beach\", \"debate\", \"stop\", \"light\", \"come\", \"domestic\", \"super\", \"political\", \"reject\", \"emergency\", \"concern\", \"station\", \"laws\", \"river\", \"vote\", \"industry\", \"plan\", \"north\", \"election\", \"coast\", \"say\", \"council\", \"call\", \"change\", \"labor\"], \"Total\": [27670.0, 17543.0, 16052.0, 16384.0, 15367.0, 15962.0, 13875.0, 11816.0, 11454.0, 11270.0, 11054.0, 10671.0, 9857.0, 9969.0, 10332.0, 9421.0, 9618.0, 8519.0, 8563.0, 8519.0, 8395.0, 8279.0, 8273.0, 8072.0, 7752.0, 7829.0, 7513.0, 12473.0, 7495.0, 7427.0, 27670.09375, 16384.201171875, 15367.3037109375, 11816.9111328125, 11454.2470703125, 11270.56640625, 11054.755859375, 9969.208984375, 9618.5244140625, 8395.3115234375, 8279.1044921875, 7829.45703125, 7495.546875, 7427.2646484375, 7169.84228515625, 7094.01513671875, 6509.44970703125, 6235.81298828125, 5856.673828125, 5676.72265625, 5611.8603515625, 5536.8154296875, 5376.42919921875, 5340.69482421875, 4956.92138671875, 3619.197998046875, 3618.572265625, 3433.21728515625, 3272.63671875, 3231.978271484375, 10671.884765625, 5090.0634765625, 3755.9765625, 4873.181640625, 5629.099609375, 14878.9599609375, 8519.666015625, 8563.998046875, 8072.796875, 8273.6083984375, 7191.9970703125, 6769.6650390625, 6529.91943359375, 5900.763671875, 4978.72021484375, 4675.89453125, 4115.11669921875, 3845.404541015625, 3740.058837890625, 3581.965576171875, 3461.62744140625, 3513.64111328125, 3427.97607421875, 3234.764404296875, 3174.618408203125, 3112.125, 2928.73046875, 2805.63427734375, 2785.33349609375, 2721.359375, 2688.30126953125, 2654.34326171875, 2578.08935546875, 2606.539794921875, 2527.14892578125, 3346.36083984375, 3647.99755859375, 6608.01123046875, 8937.8046875, 27706.2421875, 5246.0986328125, 4067.189453125, 22546.7734375, 4661.814453125, 5755.076171875, 12723.5576171875, 10459.3623046875, 16052.6044921875, 9421.9951171875, 7058.9375, 5647.24951171875, 5740.27978515625, 5627.587890625, 4542.39453125, 4502.8203125, 7752.59521484375, 4032.838623046875, 3526.990234375, 3464.725830078125, 3382.892578125, 3365.263671875, 3208.709716796875, 3188.35205078125, 3163.92626953125, 3092.533935546875, 3051.187744140625, 2940.2783203125, 6667.88134765625, 2837.373046875, 2852.951171875, 2811.185546875, 2789.971435546875, 2778.279296875, 5626.88330078125, 2540.80810546875, 3975.538330078125, 2504.499267578125, 2857.28955078125, 2560.310302734375, 2829.7919921875, 8941.8837890625, 10867.625, 9017.5205078125, 22546.7734375, 8681.720703125, 6208.71875, 14878.9599609375, 10459.3623046875, 4741.95263671875, 27706.2421875, 17543.087890625, 9857.1572265625, 8519.5185546875, 6741.50830078125, 6087.2109375, 5971.12255859375, 6366.18408203125, 6184.4326171875, 5017.72412109375, 4804.431640625, 4796.86376953125, 4751.2431640625, 4554.55078125, 4275.57861328125, 4227.9443359375, 4160.43603515625, 4069.92724609375, 3950.5498046875, 3888.3095703125, 3695.11474609375, 3885.88037109375, 3381.923583984375, 3330.7587890625, 3274.12060546875, 3267.73193359375, 3075.05712890625, 3100.910400390625, 3077.27783203125, 2976.56103515625, 2973.172119140625, 7513.65966796875, 4915.607421875, 3707.564453125, 3642.7666015625, 3395.01416015625, 6108.734375, 9427.171875, 7885.935546875, 9336.6904296875, 9587.34375, 6885.78857421875, 8842.2744140625, 9075.6240234375, 15962.3623046875, 13875.18359375, 10332.119140625, 7307.5009765625, 6731.75, 5862.8330078125, 5147.43408203125, 5058.37548828125, 5045.7666015625, 4964.794921875, 4961.60986328125, 4735.33935546875, 4701.9052734375, 4438.22509765625, 4337.03369140625, 4317.52099609375, 4376.24560546875, 3985.49169921875, 3928.413818359375, 3624.18115234375, 3748.6875, 3525.4052734375, 3438.745849609375, 3421.11279296875, 3428.172607421875, 3353.80615234375, 3073.414306640625, 2949.156982421875, 2880.792724609375, 2806.07568359375, 6422.03662109375, 4550.0546875, 4034.236572265625, 3831.9052734375, 5404.224609375, 4629.29345703125, 12473.4892578125, 11081.228515625, 12723.5576171875, 10113.09765625, 27706.2421875, 8304.6640625, 9798.58984375, 10380.7529296875, 7277.8310546875], \"loglift\": [30.0, 29.0, 28.0, 27.0, 26.0, 25.0, 24.0, 23.0, 22.0, 21.0, 20.0, 19.0, 18.0, 17.0, 16.0, 15.0, 14.0, 13.0, 12.0, 11.0, 10.0, 9.0, 8.0, 7.0, 6.0, 5.0, 4.0, 3.0, 2.0, 1.0, 1.598099946975708, 1.598099946975708, 1.598099946975708, 1.598099946975708, 1.598099946975708, 1.598099946975708, 1.598099946975708, 1.598099946975708, 1.598099946975708, 1.598099946975708, 1.598099946975708, 1.598099946975708, 1.598099946975708, 1.598099946975708, 1.598099946975708, 1.598099946975708, 1.5980000495910645, 1.5980000495910645, 1.5980000495910645, 1.5980000495910645, 1.5980000495910645, 1.5980000495910645, 1.5980000495910645, 1.5980000495910645, 1.5980000495910645, 1.5980000495910645, 1.5980000495910645, 1.5980000495910645, 1.5979000329971313, 1.5979000329971313, 1.5978000164031982, 1.5972000360488892, 1.5958000421524048, 1.451200008392334, 1.2856999635696411, 0.5759999752044678, 1.593500018119812, 1.593500018119812, 1.593500018119812, 1.593500018119812, 1.593500018119812, 1.593500018119812, 1.593500018119812, 1.593500018119812, 1.593500018119812, 1.593500018119812, 1.593500018119812, 1.593400001525879, 1.593400001525879, 1.593400001525879, 1.593400001525879, 1.593400001525879, 1.593400001525879, 1.593400001525879, 1.593400001525879, 1.593400001525879, 1.593400001525879, 1.593400001525879, 1.593400001525879, 1.593400001525879, 1.593400001525879, 1.593400001525879, 1.593400001525879, 1.593400001525879, 1.5932999849319458, 1.5932999849319458, 1.5888999700546265, 1.3693000078201294, 1.0915000438690186, 0.5878999829292297, 1.2410000562667847, 1.3592000007629395, 0.2766999900341034, 1.263700008392334, 1.0789999961853027, 0.3774999976158142, 0.48669999837875366, 1.6575000286102295, 1.6575000286102295, 1.6574000120162964, 1.6574000120162964, 1.6574000120162964, 1.6574000120162964, 1.6574000120162964, 1.6574000120162964, 1.6574000120162964, 1.6574000120162964, 1.6572999954223633, 1.6572999954223633, 1.6572999954223633, 1.6572999954223633, 1.6572999954223633, 1.6572999954223633, 1.6572999954223633, 1.6572999954223633, 1.6572999954223633, 1.6572999954223633, 1.6572999954223633, 1.6572999954223633, 1.6572999954223633, 1.6572999954223633, 1.6572999954223633, 1.6572999954223633, 1.6572999954223633, 1.6572999954223633, 1.6572999954223633, 1.6572999954223633, 1.6555999517440796, 1.656999945640564, 1.6403000354766846, 1.4230999946594238, 1.3451000452041626, 1.2145999670028687, 0.8604000210762024, 1.097499966621399, 1.1576999425888062, 0.5557000041007996, 0.6923999786376953, 1.2826000452041626, -0.30169999599456787, 1.673799991607666, 1.673799991607666, 1.673799991607666, 1.673699975013733, 1.673699975013733, 1.673699975013733, 1.673699975013733, 1.673699975013733, 1.673699975013733, 1.673699975013733, 1.673699975013733, 1.673699975013733, 1.673699975013733, 1.673699975013733, 1.673699975013733, 1.673699975013733, 1.673699975013733, 1.673699975013733, 1.673699975013733, 1.673699975013733, 1.6735999584197998, 1.6735999584197998, 1.6735999584197998, 1.6735999584197998, 1.6735999584197998, 1.6735999584197998, 1.6735999584197998, 1.6735999584197998, 1.6735999584197998, 1.6735999584197998, 1.6711000204086304, 1.6735999584197998, 1.6734999418258667, 1.658400058746338, 1.6582000255584717, 1.5440000295639038, 1.3078999519348145, 1.2898999452590942, 1.2108999490737915, 1.1606999635696411, 1.228600025177002, 0.9189000129699707, 0.7997000217437744, 1.530500054359436, 1.530500054359436, 1.530500054359436, 1.530500054359436, 1.530500054359436, 1.530500054359436, 1.530400037765503, 1.530400037765503, 1.530400037765503, 1.530400037765503, 1.530400037765503, 1.530400037765503, 1.530400037765503, 1.530400037765503, 1.530400037765503, 1.530400037765503, 1.530400037765503, 1.530400037765503, 1.530400037765503, 1.530400037765503, 1.530400037765503, 1.530400037765503, 1.530400037765503, 1.530400037765503, 1.530400037765503, 1.530400037765503, 1.5303000211715698, 1.5303000211715698, 1.5303000211715698, 1.5303000211715698, 1.5300999879837036, 1.5302000045776367, 1.5303000211715698, 1.5288000106811523, 1.514799952507019, 1.5087000131607056, 1.2400000095367432, 1.2587000131607056, 1.1053999662399292, 1.124400019645691, 0.42410001158714294, 1.0530999898910522, 0.8607000112533569, 0.8134999871253967, 1.0551999807357788], \"logprob\": [30.0, 29.0, 28.0, 27.0, 26.0, 25.0, 24.0, 23.0, 22.0, 21.0, 20.0, 19.0, 18.0, 17.0, 16.0, 15.0, 14.0, 13.0, 12.0, 11.0, 10.0, 9.0, 8.0, 7.0, 6.0, 5.0, 4.0, 3.0, 2.0, 1.0, -3.573499917984009, -4.097499847412109, -4.161600112915039, -4.424300193786621, -4.45550012588501, -4.471700191497803, -4.491000175476074, -4.594399929046631, -4.630199909210205, -4.766200065612793, -4.780200004577637, -4.835999965667725, -4.8796000480651855, -4.888800144195557, -4.923999786376953, -4.934700012207031, -5.020699977874756, -5.063600063323975, -5.126399993896484, -5.157599925994873, -5.169099807739258, -5.182499885559082, -5.211900234222412, -5.218599796295166, -5.2932000160217285, -5.607800006866455, -5.607900142669678, -5.6605000495910645, -5.708399772644043, -5.720900058746338, -4.526500225067139, -5.267499923706055, -5.57289981842041, -5.456999778747559, -5.478300094604492, -5.216000080108643, -4.756100177764893, -4.750899791717529, -4.809899806976318, -4.785399913787842, -4.92549991607666, -4.986000061035156, -5.02209997177124, -5.1234002113342285, -5.293300151824951, -5.356100082397461, -5.48390007019043, -5.551700115203857, -5.579400062561035, -5.622600078582764, -5.656799793243408, -5.641900062561035, -5.666600227355957, -5.724599838256836, -5.7434000968933105, -5.763299942016602, -5.823999881744385, -5.867000102996826, -5.874199867248535, -5.897500038146973, -5.9096999168396, -5.922399997711182, -5.951600074768066, -5.9405999183654785, -5.971499919891357, -5.690800189971924, -5.60890007019043, -5.234399795532227, -5.21019983291626, -4.582399845123291, -5.593400001525879, -5.729800224304199, -5.099699974060059, -5.688899993896484, -5.662899971008301, -5.571100234985352, -5.657800197601318, -4.058599948883057, -4.5914998054504395, -4.880199909210205, -5.103400230407715, -5.087100028991699, -5.106900215148926, -5.321100234985352, -5.329899787902832, -4.786600112915039, -5.440100193023682, -5.57420015335083, -5.5920000076293945, -5.615900039672852, -5.621200084686279, -5.668799877166748, -5.67519998550415, -5.682799816131592, -5.705699920654297, -5.719099998474121, -5.756199836730957, -4.937399864196777, -5.791800022125244, -5.786300182342529, -5.80109977722168, -5.808700084686279, -5.812900066375732, -5.1072001457214355, -5.902200222015381, -5.454599857330322, -5.916600227355957, -5.786499977111816, -5.894800186157227, -5.811500072479248, -4.8780999183654785, -4.761099815368652, -5.078199863433838, -4.515999794006348, -5.2332000732421875, -5.508299827575684, -5.236400127410889, -5.452099800109863, -5.652900218963623, -5.4720001220703125, -3.9535000324249268, -4.53000020980835, -4.675899982452393, -4.909900188446045, -5.0121002197265625, -5.031300067901611, -4.967199802398682, -4.996200084686279, -5.2052998542785645, -5.248700141906738, -5.25029993057251, -5.259900093078613, -5.302199840545654, -5.3653998374938965, -5.3765997886657715, -5.3927001953125, -5.414700031280518, -5.444499969482422, -5.460299968719482, -5.511300086975098, -5.460999965667725, -5.599899768829346, -5.615099906921387, -5.632299900054932, -5.634200096130371, -5.695000171661377, -5.686699867248535, -5.694300174713135, -5.72760009765625, -5.728700160980225, -4.804100036621094, -5.22599983215332, -5.5081000328063965, -5.540900230407715, -5.611499786376953, -5.138199806213379, -4.940499782562256, -5.13700008392334, -5.047100067138672, -5.070799827575684, -5.334000110626221, -5.393499851226807, -5.486599922180176, -4.191199779510498, -4.331299781799316, -4.626200199127197, -4.972599983215332, -5.054699897766113, -5.19290018081665, -5.322999954223633, -5.3404998779296875, -5.3429999351501465, -5.3592000007629395, -5.359799861907959, -5.406499862670898, -5.413599967956543, -5.47130012512207, -5.4944000244140625, -5.498899936676025, -5.485400199890137, -5.57889986038208, -5.593299865722656, -5.673999786376953, -5.640200138092041, -5.701600074768066, -5.726500034332275, -5.731599807739258, -5.729599952697754, -5.751500129699707, -5.838799953460693, -5.880099773406982, -5.903600215911865, -5.929900169372559, -5.102099895477295, -5.446700096130371, -5.56689977645874, -5.619800090789795, -5.289999961853027, -5.450900077819824, -4.728400230407715, -4.828000068664551, -4.843100070953369, -5.053800106048584, -4.746300220489502, -5.3221001625061035, -5.348999977111816, -5.338500022888184, -5.451900005340576]}, \"token.table\": {\"Topic\": [1, 1, 1, 2, 3, 4, 5, 1, 1, 1, 2, 1, 1, 1, 2, 3, 4, 5, 4, 1, 4, 4, 5, 3, 4, 1, 3, 1, 4, 4, 4, 1, 2, 4, 5, 1, 3, 3, 4, 2, 3, 4, 5, 1, 1, 3, 4, 3, 3, 5, 4, 3, 4, 5, 5, 4, 3, 5, 2, 4, 5, 2, 1, 3, 2, 4, 4, 3, 3, 1, 4, 5, 1, 3, 3, 5, 3, 3, 1, 4, 2, 3, 4, 5, 5, 2, 1, 2, 1, 1, 5, 5, 5, 2, 2, 2, 2, 3, 2, 5, 5, 2, 3, 5, 1, 4, 2, 1, 2, 2, 4, 5, 4, 4, 5, 2, 5, 1, 3, 4, 3, 4, 3, 2, 3, 5, 2, 1, 1, 3, 5, 1, 5, 5, 1, 5, 2, 5, 4, 5, 1, 2, 3, 1, 5, 3, 5, 3, 4, 4, 4, 2, 3, 2, 3, 2, 1, 4, 1, 4, 2, 1, 2, 5, 2, 4, 5, 2, 1, 4, 5, 2, 1, 2, 3, 5, 5, 5, 1, 4, 2, 2, 4, 5, 4, 3, 1, 5, 2, 4, 4, 2, 5, 5, 4, 5, 2, 4, 3, 4, 2, 4, 5, 4, 5, 4, 4, 1, 2, 5, 4, 2, 2, 5, 1, 2, 3, 4, 5, 2, 3, 4, 5, 1, 2, 3, 4, 1, 3, 2, 1, 3, 1, 2, 3, 2, 5, 1, 5, 5, 4, 5, 4, 5, 1, 1, 2, 3, 4, 5, 2, 2, 1, 2, 3, 5, 2, 3, 2, 1, 3, 3, 2, 3, 2, 4, 4, 5, 2, 3, 4, 5, 4, 5, 5, 5, 3, 4, 3, 2, 3, 1, 2, 2, 3, 1, 3, 4, 3], \"Freq\": [0.9998726844787598, 0.9999643564224243, 0.20402774214744568, 0.3306128978729248, 0.3809027671813965, 0.0017209461657330394, 0.08270102739334106, 0.9998140931129456, 0.9998418688774109, 0.9998568892478943, 0.9998175501823425, 0.99985271692276, 0.9999228715896606, 0.03774375841021538, 0.26793190836906433, 0.45061880350112915, 0.10715502500534058, 0.1365605592727661, 0.9999380111694336, 0.01509841438382864, 0.9846911430358887, 0.9998556971549988, 0.9998165965080261, 0.9999131560325623, 0.9998120069503784, 0.001749910181388259, 0.9981487393379211, 0.31879541277885437, 0.6812127828598022, 0.9999101758003235, 0.9997734427452087, 0.0006123330094851553, 0.3167802691459656, 0.17084090411663055, 0.5118083357810974, 0.9999201893806458, 0.9996819496154785, 0.9996665716171265, 0.9998115301132202, 0.29708826541900635, 0.00019266425806563348, 0.21453164517879486, 0.4882112145423889, 0.9999877214431763, 0.9998825192451477, 0.3592907190322876, 0.6405947208404541, 0.9998895525932312, 0.6872696280479431, 0.31252947449684143, 0.9996057748794556, 0.9999053478240967, 0.3338245153427124, 0.666165828704834, 0.999657928943634, 0.9997721910476685, 0.0003114276914857328, 0.9995271563529968, 0.23721610009670258, 0.14232966303825378, 0.6203742623329163, 0.9998834729194641, 0.9999802112579346, 0.999894380569458, 0.9997636675834656, 0.9997268915176392, 0.9996562004089355, 0.9997788071632385, 0.9999512434005737, 0.9996359944343567, 0.00028111247229389846, 0.9998850226402283, 0.42871686816215515, 0.5712001323699951, 0.9996517896652222, 0.9997596144676208, 0.9998672008514404, 0.9997361302375793, 0.9999270439147949, 0.9998952150344849, 0.29637935757637024, 0.002122048055753112, 0.047785378992557526, 0.6536693572998047, 0.9996166825294495, 0.9997286200523376, 0.9999790191650391, 0.9998705983161926, 0.9999309182167053, 0.9990051984786987, 0.0007858448079787195, 0.9998074769973755, 0.9999257922172546, 0.9998553395271301, 0.999818742275238, 0.9997929334640503, 0.00017771827697288245, 0.9996653199195862, 0.9999264478683472, 0.9998885989189148, 0.9999772906303406, 0.000390577653888613, 0.9994882345199585, 0.9999156594276428, 0.00020343366486486048, 0.9996730089187622, 0.9999217987060547, 0.863296389579773, 0.13666635751724243, 0.298051118850708, 0.41727158427238464, 0.28471872210502625, 0.9999300241470337, 0.999578058719635, 0.00026971884653903544, 0.9997506141662598, 0.9998480677604675, 0.28371939063072205, 0.08675450831651688, 0.6294521689414978, 0.9999558329582214, 0.9998825788497925, 0.9995782971382141, 0.9998613595962524, 0.021601568907499313, 0.9783350229263306, 0.9998947978019714, 0.9998666048049927, 0.9996973276138306, 0.9998178482055664, 0.9996740818023682, 0.9999628663063049, 0.9998766183853149, 0.9998770952224731, 0.9999316334724426, 0.99992835521698, 0.37827202677726746, 0.6216137409210205, 0.0002478783717378974, 0.9996934533119202, 0.2969825863838196, 0.7028079628944397, 0.9998955130577087, 0.9998696446418762, 0.9996747374534607, 0.9997942447662354, 0.0001289890642510727, 0.9999216198921204, 0.9997721910476685, 0.9999391436576843, 0.9999203681945801, 0.790963888168335, 0.20874366164207458, 0.999805212020874, 0.9997072219848633, 0.9997168779373169, 0.002661818638443947, 0.9972503781318665, 0.9976100325584412, 0.0021299386862665415, 0.9998706579208374, 0.9999497532844543, 0.7990301251411438, 0.20081685483455658, 0.597733199596405, 0.08496847003698349, 0.31728512048721313, 0.9995933175086975, 0.9998698830604553, 0.2379700094461441, 0.7619191408157349, 0.9998802542686462, 0.9999366998672485, 0.18741293251514435, 0.6421942710876465, 0.1703350692987442, 0.9998579025268555, 0.9998946785926819, 0.3064545691013336, 0.6935271620750427, 0.9996384978294373, 0.2517338991165161, 0.0004008501418866217, 0.7478260397911072, 0.9996577501296997, 0.9998006224632263, 0.9999604821205139, 0.9996076822280884, 0.999808669090271, 0.9996983408927917, 0.9998010396957397, 0.7190333604812622, 0.28100645542144775, 0.9998793005943298, 0.9998646974563599, 0.9999147057533264, 0.9998679161071777, 0.9997760057449341, 0.6065663695335388, 0.3933178782463074, 0.9953405857086182, 0.004660090897232294, 0.999724805355072, 0.9998790621757507, 0.9997616410255432, 0.9999096989631653, 0.9999246001243591, 0.0013048339169472456, 0.00026096677174791694, 0.9981979727745056, 0.9998199343681335, 0.9997304081916809, 0.999901294708252, 0.9999492764472961, 0.08806679397821426, 0.3657659590244293, 0.14097906649112701, 0.0744597539305687, 0.3307197093963623, 0.2395866960287094, 0.00020860835502389818, 0.5986016988754272, 0.16156716644763947, 0.9998466968536377, 0.12162911891937256, 0.0001637000241316855, 0.8782506585121155, 0.9999416470527649, 0.9998273253440857, 0.9995774626731873, 0.9999784231185913, 0.9996107220649719, 0.9999452829360962, 0.00025153826572932303, 0.9996130466461182, 0.6052940487861633, 0.39472779631614685, 0.00021977757569402456, 0.9995484352111816, 0.9997830986976624, 0.9997766613960266, 0.9999438524246216, 0.9998608231544495, 0.9998651742935181, 0.9998054504394531, 0.35983696579933167, 0.010887857526540756, 0.33228129148483276, 0.19127680361270905, 0.10578696429729462, 0.999715268611908, 0.9999017715454102, 0.731555700302124, 0.26824894547462463, 0.7909966111183167, 0.20890451967716217, 0.016962377354502678, 0.9827577471733093, 0.9995453953742981, 0.9998849630355835, 0.9998685121536255, 0.999962329864502, 0.9998592138290405, 0.9998994469642639, 0.9997739195823669, 0.9999487996101379, 0.9997063875198364, 0.9998399019241333, 0.0001850404223660007, 0.0005551212816499174, 0.014803233556449413, 0.9844150543212891, 0.9843847155570984, 0.015316578559577465, 0.9998916983604431, 0.9999314546585083, 0.9997192621231079, 0.9998140335083008, 0.9997904896736145, 0.00014997267862781882, 0.9997178316116333, 0.9999454617500305, 0.9998879432678223, 0.26831990480422974, 0.7317146062850952, 0.18049654364585876, 0.34945759177207947, 0.4700148105621338, 0.9997920393943787], \"Term\": [\"abuse\", \"accuse\", \"adelaide\", \"adelaide\", \"adelaide\", \"adelaide\", \"adelaide\", \"allege\", \"appeal\", \"arrest\", \"ash\", \"assault\", \"attack\", \"australia\", \"australia\", \"australia\", \"australia\", \"australia\", \"australian\", \"baby\", \"baby\", \"bank\", \"beach\", \"beat\", \"break\", \"bring\", \"bring\", \"brisbane\", \"brisbane\", \"budget\", \"business\", \"call\", \"call\", \"call\", \"call\", \"case\", \"cattle\", \"cause\", \"central\", \"change\", \"change\", \"change\", \"change\", \"charge\", \"child\", \"china\", \"china\", \"chinese\", \"christmas\", \"christmas\", \"climate\", \"coal\", \"coast\", \"coast\", \"come\", \"commission\", \"concern\", \"concern\", \"council\", \"council\", \"council\", \"country\", \"court\", \"crash\", \"cricket\", \"cut\", \"damage\", \"david\", \"deal\", \"death\", \"death\", \"debate\", \"die\", \"die\", \"dollar\", \"domestic\", \"donald\", \"drive\", \"drug\", \"drum\", \"election\", \"election\", \"election\", \"election\", \"emergency\", \"energy\", \"face\", \"fall\", \"family\", \"farm\", \"farm\", \"farmers\", \"fear\", \"federal\", \"festival\", \"film\", \"final\", \"final\", \"fund\", \"gold\", \"government\", \"grand\", \"grand\", \"green\", \"guilty\", \"guilty\", \"health\", \"hear\", \"hear\", \"help\", \"help\", \"help\", \"high\", \"hill\", \"hill\", \"history\", \"hobart\", \"home\", \"home\", \"home\", \"hour\", \"house\", \"india\", \"indigenous\", \"industry\", \"industry\", \"inquiry\", \"interview\", \"investigate\", \"island\", \"issue\", \"jail\", \"job\", \"john\", \"kill\", \"korea\", \"labor\", \"labor\", \"laws\", \"laws\", \"lead\", \"lead\", \"league\", \"life\", \"light\", \"live\", \"live\", \"malcolm\", \"mark\", \"market\", \"marriage\", \"media\", \"media\", \"mental\", \"michael\", \"mine\", \"miss\", \"miss\", \"mother\", \"mother\", \"mount\", \"murder\", \"national\", \"national\", \"need\", \"need\", \"need\", \"newcastle\", \"news\", \"north\", \"north\", \"number\", \"officer\", \"open\", \"open\", \"open\", \"park\", \"parliament\", \"perth\", \"perth\", \"peter\", \"plan\", \"plan\", \"plan\", \"plead\", \"podcast\", \"police\", \"political\", \"port\", \"premier\", \"price\", \"program\", \"program\", \"protest\", \"public\", \"queensland\", \"rail\", \"rat\", \"record\", \"record\", \"regional\", \"regional\", \"reject\", \"release\", \"residents\", \"right\", \"rise\", \"river\", \"river\", \"river\", \"royal\", \"rugby\", \"rural\", \"save\", \"say\", \"say\", \"say\", \"say\", \"say\", \"school\", \"school\", \"school\", \"school\", \"sentence\", \"share\", \"share\", \"share\", \"shoot\", \"sign\", \"social\", \"south\", \"sport\", \"stab\", \"star\", \"star\", \"state\", \"state\", \"station\", \"station\", \"stop\", \"storm\", \"street\", \"students\", \"super\", \"suspect\", \"sydney\", \"sydney\", \"sydney\", \"sydney\", \"sydney\", \"target\", \"tasmania\", \"tell\", \"tell\", \"test\", \"test\", \"tour\", \"tour\", \"track\", \"trial\", \"truck\", \"trump\", \"turnbull\", \"union\", \"unite\", \"victoria\", \"video\", \"violence\", \"vote\", \"vote\", \"vote\", \"vote\", \"wall\", \"wall\", \"warn\", \"water\", \"weather\", \"west\", \"western\", \"win\", \"win\", \"woman\", \"womens\", \"world\", \"world\", \"year\", \"year\", \"year\", \"young\"]}, \"R\": 30, \"lambda.step\": 0.01, \"plot.opts\": {\"xlab\": \"PC1\", \"ylab\": \"PC2\"}, \"topic.order\": [1, 2, 3, 4, 5]};\n",
       "\n",
       "function LDAvis_load_lib(url, callback){\n",
       "  var s = document.createElement('script');\n",
       "  s.src = url;\n",
       "  s.async = true;\n",
       "  s.onreadystatechange = s.onload = callback;\n",
       "  s.onerror = function(){console.warn(\"failed to load library \" + url);};\n",
       "  document.getElementsByTagName(\"head\")[0].appendChild(s);\n",
       "}\n",
       "\n",
       "if(typeof(LDAvis) !== \"undefined\"){\n",
       "   // already loaded: just create the visualization\n",
       "   !function(LDAvis){\n",
       "       new LDAvis(\"#\" + \"ldavis_el1266423757919821769772350882\", ldavis_el1266423757919821769772350882_data);\n",
       "   }(LDAvis);\n",
       "}else if(typeof define === \"function\" && define.amd){\n",
       "   // require.js is available: use it to load d3/LDAvis\n",
       "   require.config({paths: {d3: \"https://cdnjs.cloudflare.com/ajax/libs/d3/3.5.5/d3.min\"}});\n",
       "   require([\"d3\"], function(d3){\n",
       "      window.d3 = d3;\n",
       "      LDAvis_load_lib(\"https://cdn.rawgit.com/bmabey/pyLDAvis/files/ldavis.v1.0.0.js\", function(){\n",
       "        new LDAvis(\"#\" + \"ldavis_el1266423757919821769772350882\", ldavis_el1266423757919821769772350882_data);\n",
       "      });\n",
       "    });\n",
       "}else{\n",
       "    // require.js not available: dynamically load d3 & LDAvis\n",
       "    LDAvis_load_lib(\"https://cdnjs.cloudflare.com/ajax/libs/d3/3.5.5/d3.min.js\", function(){\n",
       "         LDAvis_load_lib(\"https://cdn.rawgit.com/bmabey/pyLDAvis/files/ldavis.v1.0.0.js\", function(){\n",
       "                 new LDAvis(\"#\" + \"ldavis_el1266423757919821769772350882\", ldavis_el1266423757919821769772350882_data);\n",
       "            })\n",
       "         });\n",
       "}\n",
       "</script>"
      ],
      "text/plain": [
       "<IPython.core.display.HTML object>"
      ]
     },
     "execution_count": 24,
     "metadata": {},
     "output_type": "execute_result"
    }
   ],
   "source": [
    "dictionary = gensim.corpora.Dictionary.load('dictionary.gensim')\n",
    "corpus1 = pickle.load(open('bow_corpus.pkl', 'rb'))\n",
    "lda = gensim.models.ldamodel.LdaModel.load('model10.gensim')\n",
    "import pyLDAvis.gensim\n",
    "lda_display = pyLDAvis.gensim.prepare(lda, corpus1, dictionary, sort_topics=False)\n",
    "pyLDAvis.display(lda_display)"
   ]
  }
 ],
 "metadata": {
  "kernelspec": {
   "display_name": "Python 3",
   "language": "python",
   "name": "python3"
  },
  "language_info": {
   "codemirror_mode": {
    "name": "ipython",
    "version": 3
   },
   "file_extension": ".py",
   "mimetype": "text/x-python",
   "name": "python",
   "nbconvert_exporter": "python",
   "pygments_lexer": "ipython3",
   "version": "3.6.8"
  }
 },
 "nbformat": 4,
 "nbformat_minor": 2
}
