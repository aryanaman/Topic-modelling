{
 "cells": [
  {
   "cell_type": "code",
   "execution_count": 1,
   "metadata": {},
   "outputs": [],
   "source": [
    "import pandas as pd\n",
    "data=pd.read_csv('abcnews-date-text.csv',error_bad_lines=False)\n",
    "#data_text=data[['headline_text']]\n",
    "#data_text['index']=data_text.index\n",
    "#documents = data_text\n",
    "        "
   ]
  },
  {
   "cell_type": "code",
   "execution_count": null,
   "metadata": {},
   "outputs": [],
   "source": []
  },
  {
   "cell_type": "code",
   "execution_count": 2,
   "metadata": {},
   "outputs": [],
   "source": [
    "data_text = data[['headline_text']]\n",
    "\n"
   ]
  },
  {
   "cell_type": "code",
   "execution_count": null,
   "metadata": {},
   "outputs": [],
   "source": []
  },
  {
   "cell_type": "code",
   "execution_count": 3,
   "metadata": {},
   "outputs": [],
   "source": [
    "data_text['index'] = data_text.index\n",
    "documents = data_text\n"
   ]
  },
  {
   "cell_type": "code",
   "execution_count": 4,
   "metadata": {},
   "outputs": [
    {
     "name": "stdout",
     "output_type": "stream",
     "text": [
      "1103665\n",
      "                                       headline_text  index\n",
      "0  aba decides against community broadcasting lic...      0\n",
      "1     act fire witnesses must be aware of defamation      1\n",
      "2     a g calls for infrastructure protection summit      2\n",
      "3           air nz staff in aust strike for pay rise      3\n",
      "4      air nz strike to affect australian travellers      4\n"
     ]
    }
   ],
   "source": [
    "print(len(documents))\n",
    "print(documents[:5])"
   ]
  },
  {
   "cell_type": "code",
   "execution_count": 5,
   "metadata": {
    "scrolled": true
   },
   "outputs": [
    {
     "name": "stderr",
     "output_type": "stream",
     "text": [
      "C:\\Users\\praveen\\Anaconda3\\lib\\site-packages\\gensim\\utils.py:1197: UserWarning: detected Windows; aliasing chunkize to chunkize_serial\n",
      "  warnings.warn(\"detected Windows; aliasing chunkize to chunkize_serial\")\n",
      "[nltk_data] Downloading package wordnet to\n",
      "[nltk_data]     C:\\Users\\praveen\\AppData\\Roaming\\nltk_data...\n",
      "[nltk_data]   Package wordnet is already up-to-date!\n"
     ]
    },
    {
     "data": {
      "text/plain": [
       "True"
      ]
     },
     "execution_count": 5,
     "metadata": {},
     "output_type": "execute_result"
    }
   ],
   "source": [
    "# Data Preprocessing \n",
    "import gensim\n",
    "from gensim.utils import simple_preprocess\n",
    "from gensim.parsing.preprocessing import STOPWORDS\n",
    "from nltk.stem import WordNetLemmatizer, SnowballStemmer\n",
    "from nltk.stem.porter import *\n",
    "import numpy as np\n",
    "np.random.seed(2018)\n",
    "import nltk\n",
    "nltk.download('wordnet')\n",
    "               \n",
    "            "
   ]
  },
  {
   "cell_type": "code",
   "execution_count": 6,
   "metadata": {},
   "outputs": [],
   "source": [
    "def lemmatize_stemming(text):\n",
    "    return WordNetLemmatizer().lemmatize(text, pos='v')\n",
    "def preprocess(text):\n",
    "    result = []\n",
    "    for token in gensim.utils.simple_preprocess(text):\n",
    "        if token not in gensim.parsing.preprocessing.STOPWORDS and len(token) > 3:\n",
    "            result.append(lemmatize_stemming(token))\n",
    "    return result"
   ]
  },
  {
   "cell_type": "code",
   "execution_count": 7,
   "metadata": {},
   "outputs": [
    {
     "name": "stdout",
     "output_type": "stream",
     "text": [
      "original document: \n",
      "['rain', 'helps', 'dampen', 'bushfires']\n",
      "\n",
      "\n",
      " tokenized and lemmatized document: \n",
      "['rain', 'help', 'dampen', 'bushfires']\n"
     ]
    }
   ],
   "source": [
    "# Select a document to preview after preprocessing\n",
    "doc_sample = documents[documents['index'] == 4310].values[0][0]\n",
    "print('original document: ')\n",
    "words = []\n",
    "for word in doc_sample.split(' '):\n",
    "    words.append(word)\n",
    "print(words)\n",
    "print('\\n\\n tokenized and lemmatized document: ')\n",
    "print(preprocess(doc_sample))\n",
    "\n"
   ]
  },
  {
   "cell_type": "code",
   "execution_count": 8,
   "metadata": {},
   "outputs": [
    {
     "data": {
      "text/plain": [
       "0              [decide, community, broadcast, licence]\n",
       "1                         [witness, aware, defamation]\n",
       "2           [call, infrastructure, protection, summit]\n",
       "3                          [staff, aust, strike, rise]\n",
       "4             [strike, affect, australian, travellers]\n",
       "5               [ambitious, olsson, win, triple, jump]\n",
       "6               [antic, delight, record, break, barca]\n",
       "7    [aussie, qualifier, stosur, waste, memphis, ma...\n",
       "8             [aust, address, security, council, iraq]\n",
       "9                         [australia, lock, timetable]\n",
       "Name: headline_text, dtype: object"
      ]
     },
     "execution_count": 8,
     "metadata": {},
     "output_type": "execute_result"
    }
   ],
   "source": [
    "processed_docs = documents['headline_text'].map(preprocess)\n",
    "processed_docs[:10]"
   ]
  },
  {
   "cell_type": "code",
   "execution_count": 9,
   "metadata": {},
   "outputs": [
    {
     "name": "stdout",
     "output_type": "stream",
     "text": [
      "0 broadcast\n",
      "1 community\n",
      "2 decide\n",
      "3 licence\n",
      "4 aware\n",
      "5 defamation\n",
      "6 witness\n",
      "7 call\n",
      "8 infrastructure\n",
      "9 protection\n",
      "10 summit\n"
     ]
    }
   ],
   "source": [
    "dictionary = gensim.corpora.Dictionary(processed_docs)\n",
    "count = 0\n",
    "for k, v in dictionary.iteritems():\n",
    "    print(k, v)\n",
    "    count += 1\n",
    "    if count > 10:\n",
    "        break"
   ]
  },
  {
   "cell_type": "code",
   "execution_count": null,
   "metadata": {
    "scrolled": true
   },
   "outputs": [],
   "source": []
  },
  {
   "cell_type": "code",
   "execution_count": 10,
   "metadata": {},
   "outputs": [],
   "source": [
    "dictionary.filter_extremes(no_below=15, no_above=0.5, keep_n=100000)"
   ]
  },
  {
   "cell_type": "code",
   "execution_count": 11,
   "metadata": {},
   "outputs": [
    {
     "data": {
      "text/plain": [
       "[(112, 1), (489, 1), (970, 1), (4427, 1)]"
      ]
     },
     "execution_count": 11,
     "metadata": {},
     "output_type": "execute_result"
    }
   ],
   "source": [
    "bow_corpus = [dictionary.doc2bow(doc) for doc in processed_docs]\n",
    "bow_corpus[4310]"
   ]
  },
  {
   "cell_type": "code",
   "execution_count": 12,
   "metadata": {},
   "outputs": [],
   "source": [
    "import pickle\n",
    "pickle.dump(bow_corpus, open('bow_corpus.pkl', 'wb'))\n",
    "dictionary.save('dictionary.gensim')"
   ]
  },
  {
   "cell_type": "code",
   "execution_count": 13,
   "metadata": {},
   "outputs": [
    {
     "name": "stdout",
     "output_type": "stream",
     "text": [
      "Word 112 (\"help\") appears 1 time.\n",
      "Word 489 (\"rain\") appears 1 time.\n",
      "Word 970 (\"bushfires\") appears 1 time.\n",
      "Word 4427 (\"dampen\") appears 1 time.\n"
     ]
    }
   ],
   "source": [
    "bow_doc_4310 = bow_corpus[4310]\n",
    "for i in range(len(bow_doc_4310)):\n",
    "    print(\"Word {} (\\\"{}\\\") appears {} time.\".format(bow_doc_4310[i][0], \n",
    "                                               dictionary[bow_doc_4310[i][0]], \n",
    "bow_doc_4310[i][1]))"
   ]
  },
  {
   "cell_type": "code",
   "execution_count": 14,
   "metadata": {},
   "outputs": [
    {
     "name": "stdout",
     "output_type": "stream",
     "text": [
      "[(0, 0.5955574839932255),\n",
      " (1, 0.394834368882524),\n",
      " (2, 0.4976240783705052),\n",
      " (3, 0.4917188028077664)]\n"
     ]
    }
   ],
   "source": [
    "from gensim import corpora, models\n",
    "tfidf = models.TfidfModel(bow_corpus)\n",
    "corpus_tfidf = tfidf[bow_corpus]\n",
    "from pprint import pprint\n",
    "for doc in corpus_tfidf:\n",
    "    pprint(doc)\n",
    "    break"
   ]
  },
  {
   "cell_type": "markdown",
   "metadata": {},
   "source": []
  },
  {
   "cell_type": "code",
   "execution_count": 15,
   "metadata": {},
   "outputs": [],
   "source": [
    "lda_model = gensim.models.LdaMulticore(bow_corpus, num_topics=5, id2word=dictionary, passes=2, workers=2)\n",
    "lda_model.save('model5.gensim')"
   ]
  },
  {
   "cell_type": "code",
   "execution_count": 16,
   "metadata": {
    "scrolled": false
   },
   "outputs": [
    {
     "name": "stdout",
     "output_type": "stream",
     "text": [
      "Topic: 0 \n",
      "Words: 0.028*\"police\" + 0.017*\"charge\" + 0.016*\"court\" + 0.012*\"attack\" + 0.012*\"south\" + 0.011*\"murder\" + 0.011*\"kill\" + 0.011*\"death\" + 0.010*\"face\" + 0.010*\"woman\"\n",
      "Topic: 1 \n",
      "Words: 0.010*\"say\" + 0.009*\"country\" + 0.009*\"health\" + 0.008*\"fund\" + 0.008*\"rural\" + 0.007*\"indigenous\" + 0.007*\"tasmania\" + 0.007*\"turnbull\" + 0.006*\"australia\" + 0.006*\"fall\"\n",
      "Topic: 2 \n",
      "Words: 0.017*\"trump\" + 0.011*\"australia\" + 0.010*\"crash\" + 0.009*\"world\" + 0.008*\"live\" + 0.008*\"donald\" + 0.007*\"test\" + 0.007*\"win\" + 0.006*\"open\" + 0.006*\"deal\"\n",
      "Topic: 3 \n",
      "Words: 0.019*\"australian\" + 0.011*\"house\" + 0.009*\"market\" + 0.007*\"rise\" + 0.007*\"perth\" + 0.007*\"west\" + 0.007*\"high\" + 0.007*\"price\" + 0.007*\"break\" + 0.006*\"home\"\n",
      "Topic: 4 \n",
      "Words: 0.015*\"government\" + 0.013*\"queensland\" + 0.010*\"warn\" + 0.009*\"say\" + 0.009*\"plan\" + 0.008*\"election\" + 0.008*\"north\" + 0.007*\"water\" + 0.006*\"coast\" + 0.006*\"gold\"\n"
     ]
    }
   ],
   "source": [
    "for idx, topic in lda_model.print_topics(-1):\n",
    "    print('Topic: {} \\nWords: {}'.format(idx, topic))"
   ]
  },
  {
   "cell_type": "code",
   "execution_count": 17,
   "metadata": {
    "scrolled": true
   },
   "outputs": [
    {
     "name": "stdout",
     "output_type": "stream",
     "text": [
      "Topic: 0 Word: 0.011*\"donald\" + 0.009*\"weather\" + 0.005*\"wrap\" + 0.005*\"islamic\" + 0.005*\"wild\" + 0.005*\"know\" + 0.005*\"andrew\" + 0.005*\"george\" + 0.004*\"paul\" + 0.004*\"wallabies\"\n",
      "Topic: 1 Word: 0.009*\"league\" + 0.009*\"world\" + 0.008*\"australia\" + 0.008*\"final\" + 0.007*\"ash\" + 0.006*\"rugby\" + 0.006*\"open\" + 0.006*\"wednesday\" + 0.006*\"win\" + 0.006*\"december\"\n",
      "Topic: 2 Word: 0.012*\"market\" + 0.009*\"queensland\" + 0.009*\"podcast\" + 0.008*\"turnbull\" + 0.008*\"price\" + 0.007*\"share\" + 0.006*\"business\" + 0.006*\"australian\" + 0.005*\"friday\" + 0.005*\"dollar\"\n",
      "Topic: 3 Word: 0.015*\"police\" + 0.014*\"crash\" + 0.009*\"woman\" + 0.009*\"drum\" + 0.008*\"die\" + 0.008*\"death\" + 0.008*\"miss\" + 0.008*\"search\" + 0.007*\"shoot\" + 0.007*\"charge\"\n",
      "Topic: 4 Word: 0.014*\"interview\" + 0.009*\"christmas\" + 0.007*\"october\" + 0.007*\"asylum\" + 0.007*\"domestic\" + 0.006*\"violence\" + 0.006*\"smith\" + 0.006*\"tony\" + 0.005*\"wall\" + 0.005*\"social\"\n",
      "Topic: 5 Word: 0.013*\"murder\" + 0.013*\"charge\" + 0.010*\"court\" + 0.008*\"jail\" + 0.007*\"sentence\" + 0.006*\"accuse\" + 0.006*\"child\" + 0.006*\"assault\" + 0.006*\"trial\" + 0.005*\"drug\"\n",
      "Topic: 6 Word: 0.012*\"government\" + 0.009*\"health\" + 0.008*\"fund\" + 0.007*\"change\" + 0.006*\"sport\" + 0.006*\"plan\" + 0.006*\"council\" + 0.005*\"federal\" + 0.005*\"budget\" + 0.005*\"school\"\n",
      "Topic: 7 Word: 0.007*\"korea\" + 0.006*\"kill\" + 0.006*\"say\" + 0.006*\"peter\" + 0.006*\"thursday\" + 0.005*\"syria\" + 0.005*\"north\" + 0.005*\"attack\" + 0.005*\"update\" + 0.004*\"china\"\n",
      "Topic: 8 Word: 0.021*\"trump\" + 0.014*\"rural\" + 0.010*\"live\" + 0.010*\"news\" + 0.007*\"cattle\" + 0.007*\"marriage\" + 0.006*\"national\" + 0.006*\"november\" + 0.006*\"monday\" + 0.005*\"station\"\n",
      "Topic: 9 Word: 0.024*\"country\" + 0.021*\"hour\" + 0.009*\"grandstand\" + 0.008*\"john\" + 0.007*\"abbott\" + 0.007*\"royal\" + 0.007*\"plead\" + 0.006*\"commission\" + 0.006*\"malcolm\" + 0.006*\"august\"\n"
     ]
    }
   ],
   "source": [
    "lda_model_tfidf = gensim.models.LdaMulticore(corpus_tfidf, num_topics=10, id2word=dictionary, passes=2, workers=4)\n",
    "for idx, topic in lda_model_tfidf.print_topics(-1):\n",
    "    print('Topic: {} Word: {}'.format(idx, topic))\n"
   ]
  },
  {
   "cell_type": "code",
   "execution_count": 18,
   "metadata": {},
   "outputs": [
    {
     "data": {
      "text/plain": [
       "['rain', 'help', 'dampen', 'bushfires']"
      ]
     },
     "execution_count": 18,
     "metadata": {},
     "output_type": "execute_result"
    }
   ],
   "source": [
    "processed_docs[4310]"
   ]
  },
  {
   "cell_type": "code",
   "execution_count": 19,
   "metadata": {},
   "outputs": [
    {
     "name": "stdout",
     "output_type": "stream",
     "text": [
      "\n",
      "Score: 0.3475067913532257\t \n",
      "Topic: 0.010*\"say\" + 0.009*\"country\" + 0.009*\"health\" + 0.008*\"fund\" + 0.008*\"rural\" + 0.007*\"indigenous\" + 0.007*\"tasmania\" + 0.007*\"turnbull\" + 0.006*\"australia\" + 0.006*\"fall\"\n",
      "\n",
      "Score: 0.33151766657829285\t \n",
      "Topic: 0.015*\"government\" + 0.013*\"queensland\" + 0.010*\"warn\" + 0.009*\"say\" + 0.009*\"plan\" + 0.008*\"election\" + 0.008*\"north\" + 0.007*\"water\" + 0.006*\"coast\" + 0.006*\"gold\"\n",
      "\n",
      "Score: 0.23995904624462128\t \n",
      "Topic: 0.028*\"police\" + 0.017*\"charge\" + 0.016*\"court\" + 0.012*\"attack\" + 0.012*\"south\" + 0.011*\"murder\" + 0.011*\"kill\" + 0.011*\"death\" + 0.010*\"face\" + 0.010*\"woman\"\n",
      "\n",
      "Score: 0.040693435817956924\t \n",
      "Topic: 0.019*\"australian\" + 0.011*\"house\" + 0.009*\"market\" + 0.007*\"rise\" + 0.007*\"perth\" + 0.007*\"west\" + 0.007*\"high\" + 0.007*\"price\" + 0.007*\"break\" + 0.006*\"home\"\n",
      "\n",
      "Score: 0.04032309353351593\t \n",
      "Topic: 0.017*\"trump\" + 0.011*\"australia\" + 0.010*\"crash\" + 0.009*\"world\" + 0.008*\"live\" + 0.008*\"donald\" + 0.007*\"test\" + 0.007*\"win\" + 0.006*\"open\" + 0.006*\"deal\"\n"
     ]
    }
   ],
   "source": [
    "for index, score in sorted(lda_model[bow_corpus[4310]], key=lambda tup: -1*tup[1]):\n",
    "    print(\"\\nScore: {}\\t \\nTopic: {}\".format(score, lda_model.print_topic(index, 10)))"
   ]
  },
  {
   "cell_type": "code",
   "execution_count": 20,
   "metadata": {},
   "outputs": [
    {
     "name": "stdout",
     "output_type": "stream",
     "text": [
      "\n",
      "Score: 0.357307493686676\t \n",
      "Topic: 0.011*\"donald\" + 0.009*\"weather\" + 0.005*\"wrap\" + 0.005*\"islamic\" + 0.005*\"wild\" + 0.005*\"know\" + 0.005*\"andrew\" + 0.005*\"george\" + 0.004*\"paul\" + 0.004*\"wallabies\"\n",
      "\n",
      "Score: 0.2925223112106323\t \n",
      "Topic: 0.015*\"police\" + 0.014*\"crash\" + 0.009*\"woman\" + 0.009*\"drum\" + 0.008*\"die\" + 0.008*\"death\" + 0.008*\"miss\" + 0.008*\"search\" + 0.007*\"shoot\" + 0.007*\"charge\"\n",
      "\n",
      "Score: 0.2101520597934723\t \n",
      "Topic: 0.021*\"trump\" + 0.014*\"rural\" + 0.010*\"live\" + 0.010*\"news\" + 0.007*\"cattle\" + 0.007*\"marriage\" + 0.006*\"national\" + 0.006*\"november\" + 0.006*\"monday\" + 0.005*\"station\"\n",
      "\n",
      "Score: 0.02000546082854271\t \n",
      "Topic: 0.012*\"market\" + 0.009*\"queensland\" + 0.009*\"podcast\" + 0.008*\"turnbull\" + 0.008*\"price\" + 0.007*\"share\" + 0.006*\"business\" + 0.006*\"australian\" + 0.005*\"friday\" + 0.005*\"dollar\"\n",
      "\n",
      "Score: 0.020004795864224434\t \n",
      "Topic: 0.012*\"government\" + 0.009*\"health\" + 0.008*\"fund\" + 0.007*\"change\" + 0.006*\"sport\" + 0.006*\"plan\" + 0.006*\"council\" + 0.005*\"federal\" + 0.005*\"budget\" + 0.005*\"school\"\n",
      "\n",
      "Score: 0.020001988857984543\t \n",
      "Topic: 0.024*\"country\" + 0.021*\"hour\" + 0.009*\"grandstand\" + 0.008*\"john\" + 0.007*\"abbott\" + 0.007*\"royal\" + 0.007*\"plead\" + 0.006*\"commission\" + 0.006*\"malcolm\" + 0.006*\"august\"\n",
      "\n",
      "Score: 0.020001981407403946\t \n",
      "Topic: 0.014*\"interview\" + 0.009*\"christmas\" + 0.007*\"october\" + 0.007*\"asylum\" + 0.007*\"domestic\" + 0.006*\"violence\" + 0.006*\"smith\" + 0.006*\"tony\" + 0.005*\"wall\" + 0.005*\"social\"\n",
      "\n",
      "Score: 0.020001571625471115\t \n",
      "Topic: 0.013*\"murder\" + 0.013*\"charge\" + 0.010*\"court\" + 0.008*\"jail\" + 0.007*\"sentence\" + 0.006*\"accuse\" + 0.006*\"child\" + 0.006*\"assault\" + 0.006*\"trial\" + 0.005*\"drug\"\n",
      "\n",
      "Score: 0.02000145986676216\t \n",
      "Topic: 0.007*\"korea\" + 0.006*\"kill\" + 0.006*\"say\" + 0.006*\"peter\" + 0.006*\"thursday\" + 0.005*\"syria\" + 0.005*\"north\" + 0.005*\"attack\" + 0.005*\"update\" + 0.004*\"china\"\n",
      "\n",
      "Score: 0.02000090852379799\t \n",
      "Topic: 0.009*\"league\" + 0.009*\"world\" + 0.008*\"australia\" + 0.008*\"final\" + 0.007*\"ash\" + 0.006*\"rugby\" + 0.006*\"open\" + 0.006*\"wednesday\" + 0.006*\"win\" + 0.006*\"december\"\n"
     ]
    }
   ],
   "source": [
    "for index, score in sorted(lda_model_tfidf[bow_corpus[4310]], key=lambda tup: -1*tup[1]):\n",
    "    print(\"\\nScore: {}\\t \\nTopic: {}\".format(score, lda_model_tfidf.print_topic(index, 10)))"
   ]
  },
  {
   "cell_type": "code",
   "execution_count": 21,
   "metadata": {
    "scrolled": true
   },
   "outputs": [
    {
     "name": "stdout",
     "output_type": "stream",
     "text": [
      "Score: 0.3666585683822632\t Topic: 0.028*\"police\" + 0.017*\"charge\" + 0.016*\"court\" + 0.012*\"attack\" + 0.012*\"south\"\n",
      "Score: 0.2892063558101654\t Topic: 0.010*\"say\" + 0.009*\"country\" + 0.009*\"health\" + 0.008*\"fund\" + 0.008*\"rural\"\n",
      "Score: 0.27688825130462646\t Topic: 0.015*\"government\" + 0.013*\"queensland\" + 0.010*\"warn\" + 0.009*\"say\" + 0.009*\"plan\"\n",
      "Score: 0.033911313861608505\t Topic: 0.019*\"australian\" + 0.011*\"house\" + 0.009*\"market\" + 0.007*\"rise\" + 0.007*\"perth\"\n",
      "Score: 0.03333551809191704\t Topic: 0.017*\"trump\" + 0.011*\"australia\" + 0.010*\"crash\" + 0.009*\"world\" + 0.008*\"live\"\n"
     ]
    }
   ],
   "source": [
    "unseen_document = 'How a Pentagon de to help him identity crisis for Google'\n",
    "bow_vector = dictionary.doc2bow(preprocess(unseen_document))\n",
    "for index, score in sorted(lda_model[bow_vector], key=lambda tup: -1*tup[1]):\n",
    "    print(\"Score: {}\\t Topic: {}\".format(score, lda_model.print_topic(index, 5)))"
   ]
  },
  {
   "cell_type": "code",
   "execution_count": 22,
   "metadata": {},
   "outputs": [],
   "source": [
    "dictionary = gensim.corpora.Dictionary.load('dictionary.gensim')\n",
    "corpus = pickle.load(open('bow_corpus.pkl', 'rb'))\n",
    "lda = gensim.models.ldamodel.LdaModel.load('model5.gensim')\n"
   ]
  },
  {
   "cell_type": "code",
   "execution_count": 24,
   "metadata": {},
   "outputs": [
    {
     "name": "stderr",
     "output_type": "stream",
     "text": [
      "C:\\Users\\praveen\\Anaconda3\\lib\\site-packages\\pyLDAvis\\_prepare.py:257: FutureWarning: Sorting because non-concatenation axis is not aligned. A future version\n",
      "of pandas will change to not sort by default.\n",
      "\n",
      "To accept the future behavior, pass 'sort=False'.\n",
      "\n",
      "To retain the current behavior and silence the warning, pass 'sort=True'.\n",
      "\n",
      "  return pd.concat([default_term_info] + list(topic_dfs))\n"
     ]
    },
    {
     "data": {
      "text/html": [
       "\n",
       "<link rel=\"stylesheet\" type=\"text/css\" href=\"https://cdn.rawgit.com/bmabey/pyLDAvis/files/ldavis.v1.0.0.css\">\n",
       "\n",
       "\n",
       "<div id=\"ldavis_el644812526163014485167357388\"></div>\n",
       "<script type=\"text/javascript\">\n",
       "\n",
       "var ldavis_el644812526163014485167357388_data = {\"mdsDat\": {\"x\": [0.36464459109029707, -0.1889471658670172, 0.0511943958438418, -0.01823404327649767, -0.20865777779062408], \"y\": [0.09358918612979476, -0.05817538817847417, -0.3514097812143715, 0.20378954322067394, 0.11220644004237702], \"topics\": [1, 2, 3, 4, 5], \"cluster\": [1, 1, 1, 1, 1], \"Freq\": [20.282073974609375, 20.18360137939453, 19.027523040771484, 18.693117141723633, 21.813688278198242]}, \"tinfo\": {\"Category\": [\"Default\", \"Default\", \"Default\", \"Default\", \"Default\", \"Default\", \"Default\", \"Default\", \"Default\", \"Default\", \"Default\", \"Default\", \"Default\", \"Default\", \"Default\", \"Default\", \"Default\", \"Default\", \"Default\", \"Default\", \"Default\", \"Default\", \"Default\", \"Default\", \"Default\", \"Default\", \"Default\", \"Default\", \"Default\", \"Default\", \"Topic1\", \"Topic1\", \"Topic1\", \"Topic1\", \"Topic1\", \"Topic1\", \"Topic1\", \"Topic1\", \"Topic1\", \"Topic1\", \"Topic1\", \"Topic1\", \"Topic1\", \"Topic1\", \"Topic1\", \"Topic1\", \"Topic1\", \"Topic1\", \"Topic1\", \"Topic1\", \"Topic1\", \"Topic1\", \"Topic1\", \"Topic1\", \"Topic1\", \"Topic1\", \"Topic1\", \"Topic1\", \"Topic1\", \"Topic1\", \"Topic1\", \"Topic1\", \"Topic1\", \"Topic1\", \"Topic1\", \"Topic1\", \"Topic2\", \"Topic2\", \"Topic2\", \"Topic2\", \"Topic2\", \"Topic2\", \"Topic2\", \"Topic2\", \"Topic2\", \"Topic2\", \"Topic2\", \"Topic2\", \"Topic2\", \"Topic2\", \"Topic2\", \"Topic2\", \"Topic2\", \"Topic2\", \"Topic2\", \"Topic2\", \"Topic2\", \"Topic2\", \"Topic2\", \"Topic2\", \"Topic2\", \"Topic2\", \"Topic2\", \"Topic2\", \"Topic2\", \"Topic2\", \"Topic2\", \"Topic2\", \"Topic2\", \"Topic2\", \"Topic2\", \"Topic2\", \"Topic2\", \"Topic2\", \"Topic2\", \"Topic2\", \"Topic3\", \"Topic3\", \"Topic3\", \"Topic3\", \"Topic3\", \"Topic3\", \"Topic3\", \"Topic3\", \"Topic3\", \"Topic3\", \"Topic3\", \"Topic3\", \"Topic3\", \"Topic3\", \"Topic3\", \"Topic3\", \"Topic3\", \"Topic3\", \"Topic3\", \"Topic3\", \"Topic3\", \"Topic3\", \"Topic3\", \"Topic3\", \"Topic3\", \"Topic3\", \"Topic3\", \"Topic3\", \"Topic3\", \"Topic3\", \"Topic3\", \"Topic3\", \"Topic3\", \"Topic3\", \"Topic3\", \"Topic3\", \"Topic3\", \"Topic3\", \"Topic3\", \"Topic3\", \"Topic3\", \"Topic3\", \"Topic3\", \"Topic3\", \"Topic3\", \"Topic4\", \"Topic4\", \"Topic4\", \"Topic4\", \"Topic4\", \"Topic4\", \"Topic4\", \"Topic4\", \"Topic4\", \"Topic4\", \"Topic4\", \"Topic4\", \"Topic4\", \"Topic4\", \"Topic4\", \"Topic4\", \"Topic4\", \"Topic4\", \"Topic4\", \"Topic4\", \"Topic4\", \"Topic4\", \"Topic4\", \"Topic4\", \"Topic4\", \"Topic4\", \"Topic4\", \"Topic4\", \"Topic4\", \"Topic4\", \"Topic4\", \"Topic4\", \"Topic4\", \"Topic4\", \"Topic4\", \"Topic4\", \"Topic4\", \"Topic4\", \"Topic4\", \"Topic4\", \"Topic4\", \"Topic4\", \"Topic5\", \"Topic5\", \"Topic5\", \"Topic5\", \"Topic5\", \"Topic5\", \"Topic5\", \"Topic5\", \"Topic5\", \"Topic5\", \"Topic5\", \"Topic5\", \"Topic5\", \"Topic5\", \"Topic5\", \"Topic5\", \"Topic5\", \"Topic5\", \"Topic5\", \"Topic5\", \"Topic5\", \"Topic5\", \"Topic5\", \"Topic5\", \"Topic5\", \"Topic5\", \"Topic5\", \"Topic5\", \"Topic5\", \"Topic5\", \"Topic5\", \"Topic5\", \"Topic5\", \"Topic5\", \"Topic5\", \"Topic5\", \"Topic5\", \"Topic5\", \"Topic5\", \"Topic5\", \"Topic5\", \"Topic5\", \"Topic5\", \"Topic5\", \"Topic5\"], \"Freq\": [27683.0, 17524.0, 16046.0, 16391.0, 15375.0, 15958.0, 13871.0, 11824.0, 11459.0, 11275.0, 11061.0, 10677.0, 9846.0, 9974.0, 10328.0, 9418.0, 9623.0, 8510.0, 8566.0, 8521.0, 8399.0, 8274.0, 8282.0, 8073.0, 7749.0, 7833.0, 12478.0, 7499.0, 7431.0, 7056.0, 27683.0703125, 16391.0625, 15374.7255859375, 11823.390625, 11458.48828125, 11275.0205078125, 11061.083984375, 9973.51953125, 9623.044921875, 8398.6142578125, 8281.8310546875, 7832.98779296875, 7498.53564453125, 7430.412109375, 7173.34521484375, 7096.53466796875, 6512.552734375, 6237.82373046875, 5859.4482421875, 5678.7861328125, 5614.38037109375, 5538.97802734375, 5378.03173828125, 5342.39306640625, 4958.53076171875, 3619.8447265625, 3619.827392578125, 3434.39404296875, 3273.295654296875, 3233.053955078125, 10674.8408203125, 4865.65234375, 3757.125, 4581.158203125, 4147.591796875, 5421.01708984375, 8520.96875, 8565.484375, 8072.94384765625, 8273.580078125, 7193.58349609375, 6770.57763671875, 6530.9091796875, 5901.5771484375, 4979.43359375, 4676.2353515625, 4114.5498046875, 3845.56689453125, 3739.801025390625, 3582.06298828125, 3461.3896484375, 3513.642822265625, 3427.73828125, 3235.29248046875, 3174.381591796875, 3111.35009765625, 3346.85205078125, 2928.2265625, 2805.65673828125, 2784.98681640625, 2721.546875, 2688.28955078125, 2653.74169921875, 2578.198486328125, 2527.417724609375, 2498.1064453125, 3454.034912109375, 5123.14990234375, 9573.7685546875, 3793.616455078125, 3208.719482421875, 3389.956787109375, 6157.69140625, 3740.189453125, 3603.136962890625, 3181.2275390625, 16045.67578125, 9417.6806640625, 7055.4345703125, 5644.3818359375, 5737.11474609375, 5624.3212890625, 7748.01416015625, 4539.8505859375, 4500.302734375, 4030.658447265625, 3525.2900390625, 3462.884765625, 3381.13525390625, 3363.362060546875, 3206.741455078125, 3186.66796875, 3161.840087890625, 3090.357421875, 3049.3828125, 2937.760986328125, 3972.796142578125, 2835.818603515625, 2850.953125, 2809.63623046875, 2788.446044921875, 2776.493408203125, 2538.726318359375, 2503.2529296875, 2438.60595703125, 2307.4521484375, 6661.8564453125, 5622.35546875, 2852.31396484375, 2557.8740234375, 7940.41796875, 6717.78125, 5869.08837890625, 10173.87890625, 4986.17626953125, 3710.706298828125, 4801.61865234375, 4221.7646484375, 3778.338134765625, 3178.550537109375, 3280.278564453125, 17523.453125, 9846.0830078125, 8509.78515625, 6733.0615234375, 6079.57080078125, 6358.72021484375, 5964.2646484375, 6177.31787109375, 5011.07958984375, 4798.97607421875, 4791.4296875, 4745.21923828125, 4549.12744140625, 4271.15380859375, 4223.58740234375, 4155.318359375, 4065.013916015625, 3945.52734375, 3883.305908203125, 3703.07470703125, 3690.348388671875, 3880.445556640625, 3378.81689453125, 3326.63232421875, 3269.76953125, 3263.541748046875, 3070.9697265625, 3097.333984375, 3073.361572265625, 2972.111572265625, 4908.37646484375, 3369.660400390625, 5379.44287109375, 3517.498779296875, 6416.11962890625, 5921.392578125, 5294.80419921875, 5720.5673828125, 4369.33447265625, 4110.45849609375, 3782.472900390625, 3924.275634765625, 15957.966796875, 13871.2734375, 10328.173828125, 7305.0966796875, 6729.4873046875, 5861.5166015625, 5145.42138671875, 5056.33447265625, 5044.265625, 4962.98583984375, 4959.43017578125, 4733.390625, 4700.78076171875, 4436.591796875, 4334.79541015625, 4315.68115234375, 4374.16162109375, 3983.837646484375, 3927.041015625, 3622.6962890625, 3524.380126953125, 3437.078857421875, 3419.84228515625, 3426.81103515625, 3352.263427734375, 3747.3857421875, 4547.70166015625, 3071.6396484375, 4032.404296875, 2948.0322265625, 6416.76611328125, 5409.1103515625, 4577.4072265625, 3749.6435546875, 9457.416015625, 8252.78515625, 8456.4736328125, 4660.5810546875, 6819.97119140625, 6042.015625, 9553.0810546875, 5191.6796875, 5182.9130859375, 5219.544921875, 4699.0986328125], \"Term\": [\"police\", \"australian\", \"trump\", \"charge\", \"court\", \"government\", \"queensland\", \"attack\", \"south\", \"murder\", \"kill\", \"death\", \"house\", \"face\", \"warn\", \"crash\", \"woman\", \"market\", \"country\", \"health\", \"jail\", \"fund\", \"interview\", \"rural\", \"live\", \"shoot\", \"plan\", \"drug\", \"accuse\", \"donald\", \"police\", \"charge\", \"court\", \"attack\", \"south\", \"murder\", \"kill\", \"face\", \"woman\", \"jail\", \"interview\", \"shoot\", \"drug\", \"accuse\", \"child\", \"arrest\", \"family\", \"life\", \"trial\", \"abuse\", \"sentence\", \"assault\", \"case\", \"news\", \"allege\", \"stab\", \"appeal\", \"officer\", \"suspect\", \"investigate\", \"death\", \"hear\", \"mother\", \"dead\", \"tell\", \"sydney\", \"health\", \"country\", \"rural\", \"fund\", \"indigenous\", \"tasmania\", \"turnbull\", \"fall\", \"federal\", \"port\", \"energy\", \"inquiry\", \"mine\", \"rugby\", \"festival\", \"ash\", \"target\", \"cricket\", \"mental\", \"peter\", \"newcastle\", \"history\", \"unite\", \"number\", \"rail\", \"womens\", \"mount\", \"social\", \"track\", \"politics\", \"regional\", \"national\", \"say\", \"lead\", \"media\", \"program\", \"australia\", \"adelaide\", \"election\", \"need\", \"trump\", \"crash\", \"donald\", \"hour\", \"deal\", \"league\", \"live\", \"beat\", \"island\", \"young\", \"weather\", \"western\", \"drive\", \"malcolm\", \"david\", \"chinese\", \"michael\", \"sign\", \"sport\", \"coal\", \"star\", \"truck\", \"cause\", \"india\", \"dollar\", \"union\", \"cattle\", \"podcast\", \"jam\", \"plane\", \"win\", \"final\", \"bring\", \"grand\", \"world\", \"test\", \"open\", \"australia\", \"die\", \"record\", \"sydney\", \"adelaide\", \"say\", \"christmas\", \"year\", \"australian\", \"house\", \"market\", \"rise\", \"price\", \"west\", \"break\", \"high\", \"bank\", \"budget\", \"royal\", \"victoria\", \"release\", \"public\", \"storm\", \"drum\", \"commission\", \"students\", \"marriage\", \"hill\", \"premier\", \"business\", \"cut\", \"mark\", \"plead\", \"rat\", \"damage\", \"video\", \"right\", \"central\", \"guilty\", \"wall\", \"share\", \"baby\", \"perth\", \"home\", \"brisbane\", \"school\", \"china\", \"miss\", \"show\", \"year\", \"government\", \"queensland\", \"warn\", \"water\", \"gold\", \"park\", \"green\", \"fear\", \"hobart\", \"violence\", \"john\", \"korea\", \"farmers\", \"save\", \"residents\", \"protest\", \"street\", \"job\", \"parliament\", \"issue\", \"debate\", \"stop\", \"light\", \"come\", \"domestic\", \"beach\", \"station\", \"super\", \"laws\", \"political\", \"concern\", \"farm\", \"industry\", \"river\", \"plan\", \"north\", \"election\", \"vote\", \"coast\", \"state\", \"say\", \"council\", \"call\", \"change\", \"labor\"], \"Total\": [27683.0, 17524.0, 16046.0, 16391.0, 15375.0, 15958.0, 13871.0, 11824.0, 11459.0, 11275.0, 11061.0, 10677.0, 9846.0, 9974.0, 10328.0, 9418.0, 9623.0, 8510.0, 8566.0, 8521.0, 8399.0, 8274.0, 8282.0, 8073.0, 7749.0, 7833.0, 12478.0, 7499.0, 7431.0, 7056.0, 27683.791015625, 16391.7578125, 15375.421875, 11824.08984375, 11459.193359375, 11275.71484375, 11061.78125, 9974.220703125, 9623.7412109375, 8399.3095703125, 8282.525390625, 7833.68359375, 7499.2333984375, 7431.10888671875, 7174.04443359375, 7097.2294921875, 6513.27099609375, 6238.52880859375, 5860.14599609375, 5679.48681640625, 5615.0751953125, 5539.67431640625, 5378.7294921875, 5343.091796875, 4959.22607421875, 3620.537841796875, 3620.5234375, 3435.0888671875, 3273.990478515625, 3233.751220703125, 10677.685546875, 4867.86181640625, 3758.26171875, 5916.02783203125, 5630.99365234375, 14889.62109375, 8521.6640625, 8566.1953125, 8073.63525390625, 8274.3125, 7194.28173828125, 6771.279296875, 6531.62158203125, 5902.27880859375, 4980.1328125, 4676.931640625, 4115.2509765625, 3846.263671875, 3740.49658203125, 3582.76416015625, 3462.08740234375, 3514.35205078125, 3428.438232421875, 3235.993896484375, 3175.07470703125, 3112.05126953125, 3347.628173828125, 2928.9287109375, 2806.356201171875, 2785.686767578125, 2722.242431640625, 2688.992919921875, 2654.44140625, 2578.89501953125, 2528.11474609375, 2498.80810546875, 3633.607421875, 6616.7802734375, 27695.72265625, 5249.14990234375, 4067.024658203125, 4660.74853515625, 22555.404296875, 10396.7177734375, 12725.298828125, 5746.72998046875, 16046.4267578125, 9418.396484375, 7056.1630859375, 5645.0927734375, 5737.83984375, 5625.03564453125, 7749.0361328125, 4540.56298828125, 4501.0244140625, 4031.37939453125, 3526.007568359375, 3463.6025390625, 3381.85498046875, 3364.10888671875, 3207.45947265625, 3187.3876953125, 3162.558837890625, 3091.071533203125, 3050.105712890625, 2938.479736328125, 3973.80078125, 2836.535888671875, 2851.675537109375, 2810.350830078125, 2789.16552734375, 2777.21142578125, 2539.439208984375, 2503.96240234375, 2439.32275390625, 2308.168212890625, 6664.93505859375, 5624.52685546875, 2856.095947265625, 2559.47509765625, 10866.2734375, 8999.0908203125, 8993.7685546875, 22555.404296875, 8679.27734375, 6205.314453125, 14889.62109375, 10396.7177734375, 27695.72265625, 4753.6923828125, 8837.0751953125, 17524.173828125, 9846.7958984375, 8510.5302734375, 6733.7724609375, 6080.28173828125, 6359.482421875, 5964.986328125, 6178.080078125, 5011.79345703125, 4799.6884765625, 4792.14208984375, 4745.9365234375, 4549.8427734375, 4271.8671875, 4224.30126953125, 4156.03125, 4065.725830078125, 3946.24267578125, 3884.03564453125, 3703.7890625, 3691.06396484375, 3881.215087890625, 3379.528076171875, 3327.347900390625, 3270.48095703125, 3264.2529296875, 3071.68115234375, 3098.0556640625, 3074.077880859375, 2972.823974609375, 4910.59130859375, 3386.243408203125, 6101.408203125, 3644.368896484375, 9429.978515625, 9342.41796875, 7885.83935546875, 9589.962890625, 6880.61328125, 7778.3251953125, 5178.283203125, 8837.0751953125, 15958.654296875, 13871.966796875, 10328.8642578125, 7305.78466796875, 6730.1748046875, 5862.20703125, 5146.10693359375, 5057.0224609375, 5044.96142578125, 4963.67333984375, 4960.125, 4734.080078125, 4701.4755859375, 4437.283203125, 4335.482421875, 4316.36865234375, 4374.86669921875, 3984.52490234375, 3927.729248046875, 3623.39111328125, 3525.068115234375, 3437.7685546875, 3420.531005859375, 3427.504638671875, 3352.950439453125, 3748.19384765625, 4548.68603515625, 3072.332275390625, 4033.340576171875, 2948.723876953125, 6419.99560546875, 5417.23486328125, 4635.1083984375, 3826.557861328125, 12478.177734375, 11051.935546875, 12725.298828125, 5316.93359375, 10118.80078125, 9061.6982421875, 27695.72265625, 8298.49609375, 9808.2578125, 10384.4443359375, 7286.732421875], \"loglift\": [30.0, 29.0, 28.0, 27.0, 26.0, 25.0, 24.0, 23.0, 22.0, 21.0, 20.0, 19.0, 18.0, 17.0, 16.0, 15.0, 14.0, 13.0, 12.0, 11.0, 10.0, 9.0, 8.0, 7.0, 6.0, 5.0, 4.0, 3.0, 2.0, 1.0, 1.5953999757766724, 1.5953999757766724, 1.5953999757766724, 1.5953999757766724, 1.5953999757766724, 1.5953999757766724, 1.5953999757766724, 1.5953999757766724, 1.5953999757766724, 1.5953999757766724, 1.5952999591827393, 1.5952999591827393, 1.5952999591827393, 1.5952999591827393, 1.5952999591827393, 1.5952999591827393, 1.5952999591827393, 1.5952999591827393, 1.5952999591827393, 1.5952999591827393, 1.5952999591827393, 1.5952999591827393, 1.5952999591827393, 1.5952999591827393, 1.5952999591827393, 1.5951999425888062, 1.5951999425888062, 1.5951999425888062, 1.5951999425888062, 1.5951999425888062, 1.5951999425888062, 1.5950000286102295, 1.5951000452041626, 1.3396999835968018, 1.2897000312805176, 0.585099995136261, 1.6002000570297241, 1.6002000570297241, 1.6002000570297241, 1.6002000570297241, 1.6002000570297241, 1.6002000570297241, 1.6002000570297241, 1.6002000570297241, 1.6002000570297241, 1.6002000570297241, 1.600100040435791, 1.600100040435791, 1.600100040435791, 1.600100040435791, 1.600100040435791, 1.600100040435791, 1.600100040435791, 1.600100040435791, 1.600100040435791, 1.600100040435791, 1.600100040435791, 1.600100040435791, 1.600100040435791, 1.600000023841858, 1.600000023841858, 1.600000023841858, 1.600000023841858, 1.600000023841858, 1.600000023841858, 1.600000023841858, 1.5496000051498413, 1.344499945640564, 0.5379999876022339, 1.2755999565124512, 1.3632999658584595, 1.2819000482559204, 0.3019999861717224, 0.5778999924659729, 0.3384999930858612, 1.0089000463485718, 1.6591999530792236, 1.6591999530792236, 1.6591999530792236, 1.6591999530792236, 1.6591999530792236, 1.6591999530792236, 1.6591999530792236, 1.65910005569458, 1.65910005569458, 1.65910005569458, 1.65910005569458, 1.65910005569458, 1.65910005569458, 1.65910005569458, 1.65910005569458, 1.65910005569458, 1.65910005569458, 1.65910005569458, 1.659000039100647, 1.659000039100647, 1.659000039100647, 1.659000039100647, 1.659000039100647, 1.659000039100647, 1.659000039100647, 1.659000039100647, 1.659000039100647, 1.659000039100647, 1.659000039100647, 1.659000039100647, 1.6588000059127808, 1.6589000225067139, 1.6579999923706055, 1.6586999893188477, 1.3456000089645386, 1.3668999671936035, 1.2324999570846558, 0.863099992275238, 1.1050000190734863, 1.1450999975204468, 0.5275999903678894, 0.7580000162124634, -0.3327000141143799, 1.2568000555038452, 0.6682999730110168, 1.6770000457763672, 1.676900029182434, 1.676900029182434, 1.676900029182434, 1.676900029182434, 1.676900029182434, 1.676900029182434, 1.676900029182434, 1.676900029182434, 1.676900029182434, 1.676900029182434, 1.676900029182434, 1.676900029182434, 1.676800012588501, 1.676800012588501, 1.676800012588501, 1.676800012588501, 1.676800012588501, 1.676800012588501, 1.676800012588501, 1.676800012588501, 1.676800012588501, 1.676800012588501, 1.676800012588501, 1.676800012588501, 1.676800012588501, 1.676800012588501, 1.676800012588501, 1.676800012588501, 1.676800012588501, 1.6765999794006348, 1.6720999479293823, 1.5511000156402588, 1.6416000127792358, 1.2919000387191772, 1.2209999561309814, 1.2786999940872192, 1.1604000329971313, 1.2229000329971313, 1.039199948310852, 1.3629000186920166, 0.8651999831199646, 1.5226000547409058, 1.5226000547409058, 1.5226000547409058, 1.5225000381469727, 1.5225000381469727, 1.5225000381469727, 1.5225000381469727, 1.5225000381469727, 1.5225000381469727, 1.5225000381469727, 1.5225000381469727, 1.5225000381469727, 1.5225000381469727, 1.5225000381469727, 1.5225000381469727, 1.5225000381469727, 1.5225000381469727, 1.5225000381469727, 1.5225000381469727, 1.5224000215530396, 1.5224000215530396, 1.5224000215530396, 1.5224000215530396, 1.5224000215530396, 1.5224000215530396, 1.5224000215530396, 1.5224000215530396, 1.5224000215530396, 1.5224000215530396, 1.5224000215530396, 1.5220999717712402, 1.5211000442504883, 1.51010000705719, 1.5023000240325928, 1.2454999685287476, 1.2305999994277954, 1.1139999628067017, 1.3909000158309937, 1.128100037574768, 1.117300033569336, 0.45820000767707825, 1.0535999536514282, 0.8848000168800354, 0.8346999883651733, 1.083899974822998], \"logprob\": [30.0, 29.0, 28.0, 27.0, 26.0, 25.0, 24.0, 23.0, 22.0, 21.0, 20.0, 19.0, 18.0, 17.0, 16.0, 15.0, 14.0, 13.0, 12.0, 11.0, 10.0, 9.0, 8.0, 7.0, 6.0, 5.0, 4.0, 3.0, 2.0, 1.0, -3.575700044631958, -4.099800109863281, -4.16379976272583, -4.426400184631348, -4.457799911499023, -4.473899841308594, -4.493100166320801, -4.59660005569458, -4.632299900054932, -4.768400192260742, -4.782400131225586, -4.838200092315674, -4.881800174713135, -4.890900135040283, -4.92609977722168, -4.9369001388549805, -5.022799968719482, -5.065899848937988, -5.128499984741211, -5.159800052642822, -5.171199798583984, -5.184700012207031, -5.214200019836426, -5.220799922943115, -5.295400142669678, -5.610099792480469, -5.610099792480469, -5.662700176239014, -5.710700035095215, -5.723100185394287, -4.528600215911865, -5.314300060272217, -5.57289981842041, -5.374599933624268, -5.473999977111816, -5.206200122833252, -4.749100208282471, -4.743899822235107, -4.803100109100342, -4.778600215911865, -4.918499946594238, -4.979100227355957, -5.015100002288818, -5.116399765014648, -5.286300182342529, -5.349100112915039, -5.477099895477295, -5.5447001457214355, -5.5725998878479, -5.615699768066406, -5.650000095367432, -5.635000228881836, -5.6596999168396, -5.71750020980835, -5.736499786376953, -5.7565999031066895, -5.683599948883057, -5.817200183868408, -5.860000133514404, -5.867400169372559, -5.890399932861328, -5.902699947357178, -5.9156999588012695, -5.9446001052856445, -5.964399814605713, -5.976099967956543, -5.652100086212158, -5.257900238037109, -4.632599830627441, -5.558300018310547, -5.725800037384033, -5.67080020904541, -5.07390022277832, -5.572500228881836, -5.609799861907959, -5.734399795532227, -4.057199954986572, -4.590099811553955, -4.878900051116943, -5.1020002365112305, -5.085700035095215, -5.105599880218506, -4.785200119018555, -5.319799900054932, -5.328499794006348, -5.438700199127197, -5.572700023651123, -5.59060001373291, -5.6143999099731445, -5.619699954986572, -5.667399883270264, -5.673699855804443, -5.68149995803833, -5.704400062561035, -5.717700004577637, -5.755000114440918, -5.453199863433838, -5.790299892425537, -5.784999847412109, -5.799600124359131, -5.807199954986572, -5.811500072479248, -5.901000022888184, -5.91510009765625, -5.941199779510498, -5.996500015258789, -4.936299800872803, -5.105899810791016, -5.7845001220703125, -5.893499851226807, -4.760700225830078, -4.9278998374938965, -5.063000202178955, -4.512800216674805, -5.22599983215332, -5.521399974822998, -5.263700008392334, -5.392399787902832, -5.503399848937988, -5.676199913024902, -5.644700050354004, -3.9514000415802, -4.527900218963623, -4.673699855804443, -4.907899856567383, -5.010000228881836, -4.965099811553955, -5.029099941253662, -4.99399995803833, -5.2032999992370605, -5.246500015258789, -5.2480998039245605, -5.257800102233887, -5.300000190734863, -5.36299991607666, -5.374199867248535, -5.390500068664551, -5.412499904632568, -5.442299842834473, -5.458199977874756, -5.505799770355225, -5.509200096130371, -5.459000110626221, -5.597400188446045, -5.61299991607666, -5.630199909210205, -5.6321001052856445, -5.69290018081665, -5.6844000816345215, -5.692200183868408, -5.7256999015808105, -5.223999977111816, -5.600100040435791, -5.132299900054932, -5.557199954986572, -4.956099987030029, -5.036399841308594, -5.148200035095215, -5.070899963378906, -5.3403000831604, -5.401400089263916, -5.484600067138672, -5.447700023651123, -4.199399948120117, -4.3394999504089355, -4.634399890899658, -4.9807000160217285, -5.06279993057251, -5.200900077819824, -5.331200122833252, -5.348700046539307, -5.351099967956543, -5.367300033569336, -5.368000030517578, -5.414700031280518, -5.421599864959717, -5.479400157928467, -5.502600193023682, -5.5071001052856445, -5.493599891662598, -5.587100028991699, -5.601399898529053, -5.68209981918335, -5.70959997177124, -5.7347002029418945, -5.739699840545654, -5.73769998550415, -5.759699821472168, -5.6483001708984375, -5.454699993133545, -5.847099781036377, -5.574900150299072, -5.888199806213379, -5.110400199890137, -5.281199932098389, -5.448200225830078, -5.647600173950195, -4.722499847412109, -4.858799934387207, -4.834400177001953, -5.430200099945068, -5.049499988555908, -5.170599937438965, -4.712399959564209, -5.322299957275391, -5.32390022277832, -5.31689977645874, -5.421899795532227]}, \"token.table\": {\"Topic\": [1, 1, 1, 2, 3, 4, 5, 1, 1, 1, 2, 1, 1, 1, 2, 3, 4, 5, 4, 1, 4, 4, 5, 3, 4, 1, 3, 1, 4, 4, 4, 1, 2, 4, 5, 1, 3, 3, 4, 2, 3, 4, 5, 1, 1, 3, 4, 3, 3, 5, 3, 4, 5, 5, 4, 3, 5, 2, 4, 5, 2, 1, 3, 2, 4, 4, 3, 1, 3, 4, 3, 1, 4, 5, 1, 3, 3, 5, 3, 3, 1, 4, 2, 3, 4, 5, 2, 1, 2, 1, 1, 5, 5, 5, 2, 2, 2, 3, 2, 5, 5, 2, 3, 5, 1, 4, 2, 1, 2, 4, 4, 2, 5, 1, 3, 4, 3, 4, 3, 2, 3, 5, 2, 1, 1, 3, 5, 1, 3, 5, 5, 1, 5, 2, 5, 5, 1, 2, 3, 1, 5, 3, 3, 4, 4, 4, 2, 3, 2, 3, 2, 1, 4, 1, 4, 2, 1, 2, 5, 2, 4, 5, 2, 1, 4, 5, 2, 1, 2, 3, 5, 5, 5, 1, 4, 2, 2, 4, 5, 3, 4, 3, 1, 5, 2, 2, 4, 4, 2, 5, 5, 4, 5, 2, 4, 3, 4, 2, 4, 4, 5, 4, 4, 1, 2, 5, 4, 2, 2, 5, 1, 2, 3, 4, 5, 2, 3, 4, 5, 1, 2, 3, 4, 1, 2, 3, 4, 5, 3, 2, 1, 3, 1, 3, 2, 5, 5, 5, 4, 5, 4, 5, 1, 1, 2, 3, 4, 5, 2, 2, 1, 2, 1, 3, 5, 2, 1, 3, 3, 2, 3, 2, 4, 4, 5, 2, 3, 4, 5, 4, 5, 5, 5, 3, 4, 3, 2, 3, 1, 2, 2, 3, 1, 3, 4, 3], \"Freq\": [0.999914288520813, 0.9998507499694824, 0.22064656019210815, 0.3597289025783539, 0.4060896933078766, 0.0004809210076928139, 0.012984867207705975, 0.9999544024467468, 0.9998553991317749, 0.9999676942825317, 0.9998998045921326, 0.9998782873153687, 0.9999078512191772, 0.03657659888267517, 0.2730166018009186, 0.4510670602321625, 0.10028638690710068, 0.139079749584198, 0.9999330043792725, 0.034573886543512344, 0.9650505185127258, 0.9998416900634766, 0.9996814727783203, 0.9998760223388672, 0.9998346567153931, 0.0010503848316147923, 0.9985659122467041, 0.32843682169914246, 0.6714567542076111, 0.9998565316200256, 0.9996869564056396, 0.0005097745452076197, 0.3043353855609894, 0.16669626533985138, 0.5284322500228882, 0.999864399433136, 0.9998270273208618, 0.9997631311416626, 0.9997228384017944, 0.2827305793762207, 0.00019259576220065355, 0.21445538103580475, 0.50267493724823, 0.9999537467956543, 0.9998543858528137, 0.3649384081363678, 0.6349724531173706, 0.9998783469200134, 0.6687433123588562, 0.3313213884830475, 0.9998367428779602, 0.3259279429912567, 0.673992931842804, 0.9998527765274048, 0.9998214840888977, 0.00046729002497158945, 0.9995334148406982, 0.22257044911384583, 0.1517142355442047, 0.6256555318832397, 0.9998604655265808, 0.9999725818634033, 0.9999579191207886, 0.9996928572654724, 0.9998437166213989, 0.9997782707214355, 0.9998567700386047, 0.774337112903595, 0.2195730060338974, 0.0059161316603422165, 0.9998536109924316, 0.9997484683990479, 0.0001873065048130229, 0.9996969699859619, 0.42549625039100647, 0.5744717717170715, 0.9995821118354797, 0.9997165203094482, 0.999835193157196, 0.9997471570968628, 0.9999688863754272, 0.9997518658638, 0.2831367552280426, 0.0025932593271136284, 0.04966484382748604, 0.6645030379295349, 0.9999390244483948, 0.9999778866767883, 0.9999527335166931, 0.9999583959579468, 0.001476768171414733, 0.9984799027442932, 0.9998988509178162, 0.9997978210449219, 0.9997725486755371, 0.9996858835220337, 0.000355585478246212, 0.9995507597923279, 0.9999622106552124, 0.9998254179954529, 0.9999589920043945, 0.000390705099562183, 0.9994236826896667, 0.9997848868370056, 0.0004072829324286431, 0.9994723200798035, 0.9999220967292786, 0.9996175169944763, 0.0004108580178581178, 0.9998251795768738, 0.9997869729995728, 0.9996829032897949, 0.9998094439506531, 0.2956407964229584, 0.07043144851922989, 0.6337759494781494, 0.9998064041137695, 0.9999191761016846, 0.9998751878738403, 0.9999608397483826, 0.012297446839511395, 0.9874634146690369, 0.9999314546585083, 0.999936580657959, 0.9997677206993103, 0.9997724294662476, 0.9998920559883118, 0.9999631643295288, 0.9998676776885986, 0.9998682737350464, 0.9997732043266296, 0.9999293684959412, 0.9997718334197998, 0.35502880811691284, 0.6448706388473511, 0.9996676445007324, 0.2771877348423004, 0.7227836847305298, 0.9998158812522888, 0.9999152421951294, 0.9998447299003601, 0.9998663067817688, 0.9996703863143921, 0.999895453453064, 0.9999377131462097, 0.9997333884239197, 0.7890288829803467, 0.21096503734588623, 0.9996615052223206, 0.999823272228241, 0.9998672604560852, 0.4714382588863373, 0.5283913612365723, 0.999664306640625, 0.00026608046027831733, 0.9998337030410767, 0.999936580657959, 0.7742436528205872, 0.22563844919204712, 0.5535321831703186, 0.11032360792160034, 0.3360171914100647, 0.9998123645782471, 0.99979567527771, 0.2532587945461273, 0.7467470169067383, 0.999753475189209, 0.9996830224990845, 0.20403015613555908, 0.6525629162788391, 0.1434326469898224, 0.9999646544456482, 0.9998143315315247, 0.3195129334926605, 0.6803833246231079, 0.9996622204780579, 0.24154168367385864, 0.00048083942965604365, 0.7578830718994141, 0.9994938969612122, 0.9998529553413391, 0.9996156692504883, 0.9999714493751526, 0.9997544884681702, 0.9996765851974487, 0.9998008012771606, 0.9997117519378662, 0.9999536871910095, 0.7273509502410889, 0.27248841524124146, 0.9999145865440369, 0.999796986579895, 0.9999303221702576, 0.9999109506607056, 0.999922513961792, 0.5980357527732849, 0.4019135534763336, 0.9505704641342163, 0.049262337386608124, 0.9998147487640381, 0.9998887181282043, 0.9996493458747864, 0.9998852610588074, 0.019861191511154175, 0.00026133147184737027, 0.9799930453300476, 0.999761700630188, 0.9997867345809937, 0.9999213218688965, 0.9999361634254456, 0.0821426510810852, 0.3456851541996002, 0.13641095161437988, 0.09084435552358627, 0.3449269235134125, 0.22763383388519287, 0.00031282706186175346, 0.5965612530708313, 0.17549598217010498, 0.9998084902763367, 0.11816944181919098, 0.00016389659140259027, 0.8815997838973999, 0.9999127388000488, 0.18867257237434387, 0.046926748007535934, 0.7303578853607178, 0.0339880995452404, 0.9996533393859863, 0.9996529221534729, 0.9998958706855774, 0.9996374845504761, 0.9998514652252197, 0.9997984766960144, 0.33316051959991455, 0.6667624115943909, 0.9998492002487183, 0.9997764229774475, 0.9999286532402039, 0.9998018741607666, 0.9999384880065918, 0.9998918771743774, 0.9996974468231201, 0.3640791177749634, 0.0322372205555439, 0.32250651717185974, 0.18637143075466156, 0.09483115375041962, 0.9998721480369568, 0.9999587535858154, 0.73663729429245, 0.2633638083934784, 0.00011112233914900571, 0.7465198636054993, 0.25335893034935, 0.9995590448379517, 0.9998044371604919, 0.999811053276062, 0.9999734163284302, 0.9999048113822937, 0.9995638132095337, 0.9998731017112732, 0.9998026490211487, 0.9996592402458191, 0.9998643398284912, 0.0001880783383967355, 0.0011284699430689216, 0.12206283956766129, 0.8766331076622009, 0.9952031373977661, 0.004724999889731407, 0.9999163150787354, 0.9998925924301147, 0.9997142553329468, 0.9999241232872009, 0.9998260140419006, 0.00045011690235696733, 0.9995596408843994, 0.9999229907989502, 0.9996307492256165, 0.2691815197467804, 0.7307012677192688, 0.18467648327350616, 0.3711635172367096, 0.4440383315086365, 0.9999058842658997], \"Term\": [\"abuse\", \"accuse\", \"adelaide\", \"adelaide\", \"adelaide\", \"adelaide\", \"adelaide\", \"allege\", \"appeal\", \"arrest\", \"ash\", \"assault\", \"attack\", \"australia\", \"australia\", \"australia\", \"australia\", \"australia\", \"australian\", \"baby\", \"baby\", \"bank\", \"beach\", \"beat\", \"break\", \"bring\", \"bring\", \"brisbane\", \"brisbane\", \"budget\", \"business\", \"call\", \"call\", \"call\", \"call\", \"case\", \"cattle\", \"cause\", \"central\", \"change\", \"change\", \"change\", \"change\", \"charge\", \"child\", \"china\", \"china\", \"chinese\", \"christmas\", \"christmas\", \"coal\", \"coast\", \"coast\", \"come\", \"commission\", \"concern\", \"concern\", \"council\", \"council\", \"council\", \"country\", \"court\", \"crash\", \"cricket\", \"cut\", \"damage\", \"david\", \"dead\", \"dead\", \"dead\", \"deal\", \"death\", \"death\", \"debate\", \"die\", \"die\", \"dollar\", \"domestic\", \"donald\", \"drive\", \"drug\", \"drum\", \"election\", \"election\", \"election\", \"election\", \"energy\", \"face\", \"fall\", \"family\", \"farm\", \"farm\", \"farmers\", \"fear\", \"federal\", \"festival\", \"final\", \"final\", \"fund\", \"gold\", \"government\", \"grand\", \"grand\", \"green\", \"guilty\", \"guilty\", \"health\", \"hear\", \"hear\", \"high\", \"hill\", \"history\", \"hobart\", \"home\", \"home\", \"home\", \"hour\", \"house\", \"india\", \"indigenous\", \"industry\", \"industry\", \"inquiry\", \"interview\", \"investigate\", \"island\", \"issue\", \"jail\", \"jam\", \"job\", \"john\", \"kill\", \"korea\", \"labor\", \"labor\", \"laws\", \"lead\", \"lead\", \"league\", \"life\", \"light\", \"live\", \"malcolm\", \"mark\", \"market\", \"marriage\", \"media\", \"media\", \"mental\", \"michael\", \"mine\", \"miss\", \"miss\", \"mother\", \"mother\", \"mount\", \"murder\", \"national\", \"national\", \"need\", \"need\", \"need\", \"newcastle\", \"news\", \"north\", \"north\", \"number\", \"officer\", \"open\", \"open\", \"open\", \"park\", \"parliament\", \"perth\", \"perth\", \"peter\", \"plan\", \"plan\", \"plan\", \"plane\", \"plead\", \"podcast\", \"police\", \"political\", \"politics\", \"port\", \"premier\", \"price\", \"program\", \"program\", \"protest\", \"public\", \"queensland\", \"rail\", \"rat\", \"record\", \"record\", \"regional\", \"regional\", \"release\", \"residents\", \"right\", \"rise\", \"river\", \"river\", \"river\", \"royal\", \"rugby\", \"rural\", \"save\", \"say\", \"say\", \"say\", \"say\", \"say\", \"school\", \"school\", \"school\", \"school\", \"sentence\", \"share\", \"share\", \"share\", \"shoot\", \"show\", \"show\", \"show\", \"show\", \"sign\", \"social\", \"south\", \"sport\", \"stab\", \"star\", \"state\", \"state\", \"station\", \"stop\", \"storm\", \"street\", \"students\", \"super\", \"suspect\", \"sydney\", \"sydney\", \"sydney\", \"sydney\", \"sydney\", \"target\", \"tasmania\", \"tell\", \"tell\", \"test\", \"test\", \"test\", \"track\", \"trial\", \"truck\", \"trump\", \"turnbull\", \"union\", \"unite\", \"victoria\", \"video\", \"violence\", \"vote\", \"vote\", \"vote\", \"vote\", \"wall\", \"wall\", \"warn\", \"water\", \"weather\", \"west\", \"western\", \"win\", \"win\", \"woman\", \"womens\", \"world\", \"world\", \"year\", \"year\", \"year\", \"young\"]}, \"R\": 30, \"lambda.step\": 0.01, \"plot.opts\": {\"xlab\": \"PC1\", \"ylab\": \"PC2\"}, \"topic.order\": [1, 2, 3, 4, 5]};\n",
       "\n",
       "function LDAvis_load_lib(url, callback){\n",
       "  var s = document.createElement('script');\n",
       "  s.src = url;\n",
       "  s.async = true;\n",
       "  s.onreadystatechange = s.onload = callback;\n",
       "  s.onerror = function(){console.warn(\"failed to load library \" + url);};\n",
       "  document.getElementsByTagName(\"head\")[0].appendChild(s);\n",
       "}\n",
       "\n",
       "if(typeof(LDAvis) !== \"undefined\"){\n",
       "   // already loaded: just create the visualization\n",
       "   !function(LDAvis){\n",
       "       new LDAvis(\"#\" + \"ldavis_el644812526163014485167357388\", ldavis_el644812526163014485167357388_data);\n",
       "   }(LDAvis);\n",
       "}else if(typeof define === \"function\" && define.amd){\n",
       "   // require.js is available: use it to load d3/LDAvis\n",
       "   require.config({paths: {d3: \"https://cdnjs.cloudflare.com/ajax/libs/d3/3.5.5/d3.min\"}});\n",
       "   require([\"d3\"], function(d3){\n",
       "      window.d3 = d3;\n",
       "      LDAvis_load_lib(\"https://cdn.rawgit.com/bmabey/pyLDAvis/files/ldavis.v1.0.0.js\", function(){\n",
       "        new LDAvis(\"#\" + \"ldavis_el644812526163014485167357388\", ldavis_el644812526163014485167357388_data);\n",
       "      });\n",
       "    });\n",
       "}else{\n",
       "    // require.js not available: dynamically load d3 & LDAvis\n",
       "    LDAvis_load_lib(\"https://cdnjs.cloudflare.com/ajax/libs/d3/3.5.5/d3.min.js\", function(){\n",
       "         LDAvis_load_lib(\"https://cdn.rawgit.com/bmabey/pyLDAvis/files/ldavis.v1.0.0.js\", function(){\n",
       "                 new LDAvis(\"#\" + \"ldavis_el644812526163014485167357388\", ldavis_el644812526163014485167357388_data);\n",
       "            })\n",
       "         });\n",
       "}\n",
       "</script>"
      ],
      "text/plain": [
       "<IPython.core.display.HTML object>"
      ]
     },
     "execution_count": 24,
     "metadata": {},
     "output_type": "execute_result"
    }
   ],
   "source": [
    "import pyLDAvis.gensim\n",
    "lda_display = pyLDAvis.gensim.prepare(lda, corpus, dictionary, sort_topics=False)\n",
    "pyLDAvis.display(lda_display)"
   ]
  },
  {
   "cell_type": "code",
   "execution_count": null,
   "metadata": {},
   "outputs": [],
   "source": []
  }
 ],
 "metadata": {
  "kernelspec": {
   "display_name": "Python 3",
   "language": "python",
   "name": "python3"
  },
  "language_info": {
   "codemirror_mode": {
    "name": "ipython",
    "version": 3
   },
   "file_extension": ".py",
   "mimetype": "text/x-python",
   "name": "python",
   "nbconvert_exporter": "python",
   "pygments_lexer": "ipython3",
   "version": "3.6.8"
  }
 },
 "nbformat": 4,
 "nbformat_minor": 2
}
